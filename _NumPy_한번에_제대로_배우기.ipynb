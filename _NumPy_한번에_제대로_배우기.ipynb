{
  "nbformat": 4,
  "nbformat_minor": 0,
  "metadata": {
    "colab": {
      "provenance": [],
      "include_colab_link": true
    },
    "kernelspec": {
      "name": "python3",
      "display_name": "Python 3"
    }
  },
  "cells": [
    {
      "cell_type": "markdown",
      "metadata": {
        "id": "view-in-github",
        "colab_type": "text"
      },
      "source": [
        "<a href=\"https://colab.research.google.com/github/yskim1230/SuanLab-Numpy/blob/main/_NumPy_%ED%95%9C%EB%B2%88%EC%97%90_%EC%A0%9C%EB%8C%80%EB%A1%9C_%EB%B0%B0%EC%9A%B0%EA%B8%B0.ipynb\" target=\"_parent\"><img src=\"https://colab.research.google.com/assets/colab-badge.svg\" alt=\"Open In Colab\"/></a>"
      ]
    },
    {
      "cell_type": "markdown",
      "metadata": {
        "id": "J_FfQuu2Tb30"
      },
      "source": [
        "# NumPy 한번에 제대로 배우기"
      ]
    },
    {
      "cell_type": "markdown",
      "metadata": {
        "id": "Zgrrh9T2vs8u"
      },
      "source": [
        "\n",
        "\n",
        "---\n",
        "\n"
      ]
    },
    {
      "cell_type": "markdown",
      "metadata": {
        "id": "oR5hNBH-Retd"
      },
      "source": [
        "## NumPy 특징\n",
        "\n",
        "* Numerical Python의 약자\n",
        "* 고성능 과학 계산용 패키지로 강력한 N차원 배열 객체\n",
        "* 범용적 데이터 처리에 사용 가능한 다차원 컨테이너\n",
        "* 정교한 브로드캐스팅(broadcasting) 기능\n",
        "* 파이썬의 자료형 list와 비슷하지만, 더 빠르고 메모리를 효율적으로 관리\n",
        "* 반복문 없이 데이터 배열에 대한 처리를 지원하여 빠르고 편리\n",
        "* 데이터 과학 도구에 대한 생태계의 핵심을 이루고 있음"
      ]
    },
    {
      "cell_type": "code",
      "metadata": {
        "id": "R9klTdhLQ564",
        "outputId": "29b8d7a1-c686-432e-f4c4-97f2133244d9",
        "colab": {
          "base_uri": "https://localhost:8080/",
          "height": 35
        }
      },
      "source": [
        "import numpy as np\n",
        "np.__version__\n"
      ],
      "execution_count": 1,
      "outputs": [
        {
          "output_type": "execute_result",
          "data": {
            "text/plain": [
              "'1.22.4'"
            ],
            "application/vnd.google.colaboratory.intrinsic+json": {
              "type": "string"
            }
          },
          "metadata": {},
          "execution_count": 1
        }
      ]
    },
    {
      "cell_type": "markdown",
      "metadata": {
        "id": "2hSWC5ptGyWP"
      },
      "source": [
        "\n",
        "\n",
        "---\n",
        "\n"
      ]
    },
    {
      "cell_type": "markdown",
      "metadata": {
        "id": "1kgkJZFlVUqk"
      },
      "source": [
        "## 배열 생성"
      ]
    },
    {
      "cell_type": "markdown",
      "metadata": {
        "id": "5eQ4sAkMbzm0"
      },
      "source": [
        "### 리스트로 배열 만들기\n"
      ]
    },
    {
      "cell_type": "code",
      "metadata": {
        "id": "Mtod2jcPWVvV",
        "outputId": "da02fecc-ad0a-43d7-c50e-a2820888665e",
        "colab": {
          "base_uri": "https://localhost:8080/"
        }
      },
      "source": [
        "a1 = np.array([1, 2, 3, 4, 5])\n",
        "\n",
        "print(a1)\n",
        "print(type(a1)) # ndarray\n",
        "print(a1.shape) # 1차원\n",
        "print(a1[0], a1[1], a1[2])\n",
        "a1[0] = 4\n",
        "print(a1)"
      ],
      "execution_count": 2,
      "outputs": [
        {
          "output_type": "stream",
          "name": "stdout",
          "text": [
            "[1 2 3 4 5]\n",
            "<class 'numpy.ndarray'>\n",
            "(5,)\n",
            "1 2 3\n",
            "[4 2 3 4 5]\n"
          ]
        }
      ]
    },
    {
      "cell_type": "code",
      "metadata": {
        "id": "vp9tkHH8esXT",
        "outputId": "2fa608e0-fd8f-407f-d44f-73cf48ef3ce3",
        "colab": {
          "base_uri": "https://localhost:8080/"
        }
      },
      "source": [
        "a2 = np.array([ [1,2,3], [4,5,6] ,[7,8,9] ])\n",
        "print(a2)\n",
        "print(a2.shape) # 2차원\n",
        "\n",
        "print(a2[0,0],a2[0,1], a2[0,2]) \n"
      ],
      "execution_count": 3,
      "outputs": [
        {
          "output_type": "stream",
          "name": "stdout",
          "text": [
            "[[1 2 3]\n",
            " [4 5 6]\n",
            " [7 8 9]]\n",
            "(3, 3)\n",
            "1 2 3\n"
          ]
        }
      ]
    },
    {
      "cell_type": "code",
      "metadata": {
        "id": "Baj4gZ2meuJu",
        "outputId": "e783f921-ae33-4688-e70e-866909737e77",
        "colab": {
          "base_uri": "https://localhost:8080/"
        }
      },
      "source": [
        "a3 = np.array([\n",
        "    \n",
        "     [ [1,2,3,] , [4,5,6], [7,8,9]],\n",
        "     [ [1,2,3,] , [4,5,6], [7,8,9]],\n",
        "     [ [1,2,3,] , [4,5,6], [7,8,9]]\n",
        "    \n",
        "    \n",
        "])\n",
        "print(a3)\n",
        "print(a3.shape) # 3차원\n"
      ],
      "execution_count": 4,
      "outputs": [
        {
          "output_type": "stream",
          "name": "stdout",
          "text": [
            "[[[1 2 3]\n",
            "  [4 5 6]\n",
            "  [7 8 9]]\n",
            "\n",
            " [[1 2 3]\n",
            "  [4 5 6]\n",
            "  [7 8 9]]\n",
            "\n",
            " [[1 2 3]\n",
            "  [4 5 6]\n",
            "  [7 8 9]]]\n",
            "(3, 3, 3)\n"
          ]
        }
      ]
    },
    {
      "cell_type": "markdown",
      "metadata": {
        "id": "PNkKtw4CoSDB"
      },
      "source": [
        "### 배열 생성 및 초기화"
      ]
    },
    {
      "cell_type": "markdown",
      "metadata": {
        "id": "mJVii5p_VfgM"
      },
      "source": [
        "* `zeros()`: 모든 요소를 0으로 초기화"
      ]
    },
    {
      "cell_type": "code",
      "metadata": {
        "id": "W_SF1tVoVTf1",
        "outputId": "2cd0319b-63ac-4314-ea03-14456be6525b",
        "colab": {
          "base_uri": "https://localhost:8080/"
        }
      },
      "source": [
        "np.zeros(10)"
      ],
      "execution_count": 5,
      "outputs": [
        {
          "output_type": "execute_result",
          "data": {
            "text/plain": [
              "array([0., 0., 0., 0., 0., 0., 0., 0., 0., 0.])"
            ]
          },
          "metadata": {},
          "execution_count": 5
        }
      ]
    },
    {
      "cell_type": "markdown",
      "metadata": {
        "id": "LjYFQrODVqhX"
      },
      "source": [
        "* `ones()`: 모든 요소를 1로 초기화"
      ]
    },
    {
      "cell_type": "code",
      "metadata": {
        "id": "MURoqsMsVeUw",
        "outputId": "e732f533-8c0c-4935-d5a5-32eb6e510fb4",
        "colab": {
          "base_uri": "https://localhost:8080/"
        }
      },
      "source": [
        "np.ones((3,3))"
      ],
      "execution_count": 6,
      "outputs": [
        {
          "output_type": "execute_result",
          "data": {
            "text/plain": [
              "array([[1., 1., 1.],\n",
              "       [1., 1., 1.],\n",
              "       [1., 1., 1.]])"
            ]
          },
          "metadata": {},
          "execution_count": 6
        }
      ]
    },
    {
      "cell_type": "markdown",
      "metadata": {
        "id": "jnmm3Cj-cGtx"
      },
      "source": [
        "* `full()`: 모든 요소를 지정한 값으로 초기화"
      ]
    },
    {
      "cell_type": "code",
      "metadata": {
        "id": "oscabrdcV7Ny",
        "outputId": "0f5be6e6-6550-4c77-c499-1d5827989279",
        "colab": {
          "base_uri": "https://localhost:8080/"
        }
      },
      "source": [
        "np.full((3,3), 1.23)"
      ],
      "execution_count": 7,
      "outputs": [
        {
          "output_type": "execute_result",
          "data": {
            "text/plain": [
              "array([[1.23, 1.23, 1.23],\n",
              "       [1.23, 1.23, 1.23],\n",
              "       [1.23, 1.23, 1.23]])"
            ]
          },
          "metadata": {},
          "execution_count": 7
        }
      ]
    },
    {
      "cell_type": "markdown",
      "metadata": {
        "id": "0SRI4jbmlIKc"
      },
      "source": [
        "* `eye()`: 단위행렬(identity matrix) 생성\n",
        "  + 주대각선의 원소가 모두 1이고 나머지 원소는 모두 0인 정사각 행렬"
      ]
    },
    {
      "cell_type": "code",
      "metadata": {
        "id": "VceBVLLjk9o5",
        "outputId": "11fd4511-fc4a-4df4-aa01-294ad97d060b",
        "colab": {
          "base_uri": "https://localhost:8080/"
        }
      },
      "source": [
        "np.eye(3)"
      ],
      "execution_count": 8,
      "outputs": [
        {
          "output_type": "execute_result",
          "data": {
            "text/plain": [
              "array([[1., 0., 0.],\n",
              "       [0., 1., 0.],\n",
              "       [0., 0., 1.]])"
            ]
          },
          "metadata": {},
          "execution_count": 8
        }
      ]
    },
    {
      "cell_type": "markdown",
      "metadata": {
        "id": "7CCH1ZMT5R02"
      },
      "source": [
        "* `tri()`: 삼각행렬 생성"
      ]
    },
    {
      "cell_type": "code",
      "metadata": {
        "id": "mLe2Bhj05VYu",
        "outputId": "6892b5ad-8632-4f46-8ebd-98315097d1c3",
        "colab": {
          "base_uri": "https://localhost:8080/"
        }
      },
      "source": [
        "np.tri(3)"
      ],
      "execution_count": 9,
      "outputs": [
        {
          "output_type": "execute_result",
          "data": {
            "text/plain": [
              "array([[1., 0., 0.],\n",
              "       [1., 1., 0.],\n",
              "       [1., 1., 1.]])"
            ]
          },
          "metadata": {},
          "execution_count": 9
        }
      ]
    },
    {
      "cell_type": "markdown",
      "metadata": {
        "id": "ObZRA4HclZlO"
      },
      "source": [
        "* `empty()`: 초기화되지 않은 배열 생성\n",
        "  + 초기화가 없어서 배열 생성비용 저렴하고 빠름\n",
        "  + 초기화되지 않아서 기존 메모리 위치에 존재하는 값이 있음"
      ]
    },
    {
      "cell_type": "code",
      "metadata": {
        "id": "I3SoFgiglAkz",
        "outputId": "6cbec25d-79d3-43ef-e49c-c714dc91ceee",
        "colab": {
          "base_uri": "https://localhost:8080/"
        }
      },
      "source": [
        "np.empty(10)"
      ],
      "execution_count": 10,
      "outputs": [
        {
          "output_type": "execute_result",
          "data": {
            "text/plain": [
              "array([0., 0., 0., 0., 0., 0., 0., 0., 0., 0.])"
            ]
          },
          "metadata": {},
          "execution_count": 10
        }
      ]
    },
    {
      "cell_type": "markdown",
      "metadata": {
        "id": "p3uSl1Ccmi5_"
      },
      "source": [
        "* `_like()`: 지정된 배열과 shape가 같은 행렬 생성\n",
        "  + `np.zeros_like()`\n",
        "  + `np.ones_like()`\n",
        "  + `np.full_like()`\n",
        "  + `np.empty_like()`"
      ]
    },
    {
      "cell_type": "code",
      "metadata": {
        "id": "Ad5RskRRlZLs",
        "outputId": "0272a0c5-3921-42ba-a380-bacb32e3c165",
        "colab": {
          "base_uri": "https://localhost:8080/"
        }
      },
      "source": [
        "print(a1)\n",
        "np.zeros_like(a1)\n"
      ],
      "execution_count": 11,
      "outputs": [
        {
          "output_type": "stream",
          "name": "stdout",
          "text": [
            "[4 2 3 4 5]\n"
          ]
        },
        {
          "output_type": "execute_result",
          "data": {
            "text/plain": [
              "array([0, 0, 0, 0, 0])"
            ]
          },
          "metadata": {},
          "execution_count": 11
        }
      ]
    },
    {
      "cell_type": "code",
      "metadata": {
        "id": "KChUHsG003Nf",
        "outputId": "d301163b-22a6-43e0-f44f-dac9066e94e4",
        "colab": {
          "base_uri": "https://localhost:8080/"
        }
      },
      "source": [
        "print(a2)\n",
        "np.ones_like(a2)"
      ],
      "execution_count": 12,
      "outputs": [
        {
          "output_type": "stream",
          "name": "stdout",
          "text": [
            "[[1 2 3]\n",
            " [4 5 6]\n",
            " [7 8 9]]\n"
          ]
        },
        {
          "output_type": "execute_result",
          "data": {
            "text/plain": [
              "array([[1, 1, 1],\n",
              "       [1, 1, 1],\n",
              "       [1, 1, 1]])"
            ]
          },
          "metadata": {},
          "execution_count": 12
        }
      ]
    },
    {
      "cell_type": "code",
      "metadata": {
        "id": "PUnDz6b305Gg",
        "outputId": "13ae17d7-9304-457a-f942-8d97708cc25f",
        "colab": {
          "base_uri": "https://localhost:8080/"
        }
      },
      "source": [
        "print(a3)\n",
        "np.full_like(a3,10)"
      ],
      "execution_count": 13,
      "outputs": [
        {
          "output_type": "stream",
          "name": "stdout",
          "text": [
            "[[[1 2 3]\n",
            "  [4 5 6]\n",
            "  [7 8 9]]\n",
            "\n",
            " [[1 2 3]\n",
            "  [4 5 6]\n",
            "  [7 8 9]]\n",
            "\n",
            " [[1 2 3]\n",
            "  [4 5 6]\n",
            "  [7 8 9]]]\n"
          ]
        },
        {
          "output_type": "execute_result",
          "data": {
            "text/plain": [
              "array([[[10, 10, 10],\n",
              "        [10, 10, 10],\n",
              "        [10, 10, 10]],\n",
              "\n",
              "       [[10, 10, 10],\n",
              "        [10, 10, 10],\n",
              "        [10, 10, 10]],\n",
              "\n",
              "       [[10, 10, 10],\n",
              "        [10, 10, 10],\n",
              "        [10, 10, 10]]])"
            ]
          },
          "metadata": {},
          "execution_count": 13
        }
      ]
    },
    {
      "cell_type": "markdown",
      "metadata": {
        "id": "apoksGJNrn1z"
      },
      "source": [
        "### 생성한 값으로 배열 생성"
      ]
    },
    {
      "cell_type": "markdown",
      "metadata": {
        "id": "H3nmLct8cnV8"
      },
      "source": [
        "* `arange()`: 정수 범위로 배열 생성"
      ]
    },
    {
      "cell_type": "code",
      "metadata": {
        "id": "mANy4WY4cDKa",
        "outputId": "d34d2315-2cfb-4bab-8223-c6878d87a17a",
        "colab": {
          "base_uri": "https://localhost:8080/"
        }
      },
      "source": [
        "import numpy as np\n",
        "np.arange(0,30,2)"
      ],
      "execution_count": 14,
      "outputs": [
        {
          "output_type": "execute_result",
          "data": {
            "text/plain": [
              "array([ 0,  2,  4,  6,  8, 10, 12, 14, 16, 18, 20, 22, 24, 26, 28])"
            ]
          },
          "metadata": {},
          "execution_count": 14
        }
      ]
    },
    {
      "cell_type": "markdown",
      "metadata": {
        "id": "s5kET1e6itlo"
      },
      "source": [
        "* `linspace()`: 범위 내에서 균등 간격의 배열 생성"
      ]
    },
    {
      "cell_type": "code",
      "metadata": {
        "id": "u4q9gI7Zcltz",
        "outputId": "69de6ad0-dfb4-4e3b-bb4c-d96398b92bc8",
        "colab": {
          "base_uri": "https://localhost:8080/"
        }
      },
      "source": [
        "np.linspace(0,1,5)"
      ],
      "execution_count": 15,
      "outputs": [
        {
          "output_type": "execute_result",
          "data": {
            "text/plain": [
              "array([0.  , 0.25, 0.5 , 0.75, 1.  ])"
            ]
          },
          "metadata": {},
          "execution_count": 15
        }
      ]
    },
    {
      "cell_type": "markdown",
      "metadata": {
        "id": "Eq26d7T3nnAH"
      },
      "source": [
        "* `logspace()`: 범위 내에서 균등간격으로 로그 스케일로 배열 생성"
      ]
    },
    {
      "cell_type": "code",
      "metadata": {
        "id": "-O29WBVEnyXX",
        "outputId": "09e1c88d-180b-440c-c938-70111361835c",
        "colab": {
          "base_uri": "https://localhost:8080/"
        }
      },
      "source": [
        "np.logspace(0.1,1,20)"
      ],
      "execution_count": 16,
      "outputs": [
        {
          "output_type": "execute_result",
          "data": {
            "text/plain": [
              "array([ 1.25892541,  1.40400425,  1.565802  ,  1.74624535,  1.94748304,\n",
              "        2.1719114 ,  2.42220294,  2.70133812,  3.0126409 ,  3.35981829,\n",
              "        3.74700446,  4.17881006,  4.66037703,  5.19743987,  5.79639395,\n",
              "        6.46437163,  7.2093272 ,  8.04013161,  8.9666781 , 10.        ])"
            ]
          },
          "metadata": {},
          "execution_count": 16
        }
      ]
    },
    {
      "cell_type": "markdown",
      "metadata": {
        "id": "6_88s4_Jr7fO"
      },
      "source": [
        "### 랜덤값으로 배열 생성\n"
      ]
    },
    {
      "cell_type": "markdown",
      "metadata": {
        "id": "CoK1cVUkjNMg"
      },
      "source": [
        "* `random.random()`: 랜덤한 수의 배열 생성"
      ]
    },
    {
      "cell_type": "code",
      "metadata": {
        "id": "qJwccKEnjMze",
        "outputId": "e1b68364-7fb6-429a-c46f-129f747d105d",
        "colab": {
          "base_uri": "https://localhost:8080/"
        }
      },
      "source": [
        "np.random.random((3,3))"
      ],
      "execution_count": 17,
      "outputs": [
        {
          "output_type": "execute_result",
          "data": {
            "text/plain": [
              "array([[0.59556177, 0.85826661, 0.85730218],\n",
              "       [0.19000359, 0.18293077, 0.41529561],\n",
              "       [0.80629763, 0.75380411, 0.95209515]])"
            ]
          },
          "metadata": {},
          "execution_count": 17
        }
      ]
    },
    {
      "cell_type": "markdown",
      "metadata": {
        "id": "BYsAVwA1kvDI"
      },
      "source": [
        "* `random.randint()`: 일정 구간의 랜덤 정수의 배열 생성"
      ]
    },
    {
      "cell_type": "code",
      "metadata": {
        "id": "oR-UszZ_jqfQ",
        "outputId": "9876571f-1f36-47cd-bc7e-867e0e7615b8",
        "colab": {
          "base_uri": "https://localhost:8080/"
        }
      },
      "source": [
        "np.random.randint(0,10,(3,3))"
      ],
      "execution_count": 18,
      "outputs": [
        {
          "output_type": "execute_result",
          "data": {
            "text/plain": [
              "array([[0, 4, 4],\n",
              "       [2, 2, 3],\n",
              "       [4, 0, 9]])"
            ]
          },
          "metadata": {},
          "execution_count": 18
        }
      ]
    },
    {
      "cell_type": "markdown",
      "metadata": {
        "id": "2r557WHsjrL3"
      },
      "source": [
        "* `random.normal()`: 정규분포(normal distribution)를 고려한 랜덤한 수의 배열 생성\n",
        "* 평균=0, 표준편차=1, 3 x 3 배열"
      ]
    },
    {
      "cell_type": "code",
      "metadata": {
        "id": "Oan3bSpHi2Wq",
        "outputId": "5b9822a1-0f43-4d73-e91b-aa59bb55057d",
        "colab": {
          "base_uri": "https://localhost:8080/"
        }
      },
      "source": [
        "np.random.normal(0,1,size =(3,3))"
      ],
      "execution_count": 19,
      "outputs": [
        {
          "output_type": "execute_result",
          "data": {
            "text/plain": [
              "array([[-1.45681373, -1.37103948,  1.49537217],\n",
              "       [ 0.84236663, -0.230669  ,  0.47447836],\n",
              "       [-0.78978543,  0.81004549,  0.4036151 ]])"
            ]
          },
          "metadata": {},
          "execution_count": 19
        }
      ]
    },
    {
      "cell_type": "markdown",
      "metadata": {
        "id": "fPO-D1rHsrFw"
      },
      "source": [
        "* `random.rand()`: 균등분포(uniform distribution)를 고려한 랜덤한 수의 배열 생성"
      ]
    },
    {
      "cell_type": "code",
      "metadata": {
        "id": "DxiyEjnXnDUT",
        "outputId": "0ecbc700-e24f-4550-90cc-b89e99496009",
        "colab": {
          "base_uri": "https://localhost:8080/"
        }
      },
      "source": [
        "np.random.rand(3,3)"
      ],
      "execution_count": 20,
      "outputs": [
        {
          "output_type": "execute_result",
          "data": {
            "text/plain": [
              "array([[0.45147403, 0.05934855, 0.82169173],\n",
              "       [0.96755364, 0.75170963, 0.68051779],\n",
              "       [0.43900172, 0.45702637, 0.75475993]])"
            ]
          },
          "metadata": {},
          "execution_count": 20
        }
      ]
    },
    {
      "cell_type": "markdown",
      "metadata": {
        "id": "IegH2dsPLQgd"
      },
      "source": [
        "* `random.randn()`: 표준 정규 분포(standard normal distribution)를 고려한 랜덤한 수의 배열 생성"
      ]
    },
    {
      "cell_type": "code",
      "metadata": {
        "id": "V61VHa-JLIma",
        "outputId": "8a326afa-2a63-46d0-d35b-71b4ce1c480d",
        "colab": {
          "base_uri": "https://localhost:8080/"
        }
      },
      "source": [
        "np.random.randn(3,3)"
      ],
      "execution_count": 21,
      "outputs": [
        {
          "output_type": "execute_result",
          "data": {
            "text/plain": [
              "array([[ 0.19731339,  0.83922351, -0.19639348],\n",
              "       [-1.4839672 ,  1.02591419, -0.06004337],\n",
              "       [-0.17598859, -0.58136327,  0.32558515]])"
            ]
          },
          "metadata": {},
          "execution_count": 21
        }
      ]
    },
    {
      "cell_type": "markdown",
      "metadata": {
        "id": "5ts0cYLQL_pT"
      },
      "source": [
        "### 표준 데이터 타입"
      ]
    },
    {
      "cell_type": "code",
      "metadata": {
        "id": "rxqTqAFKL73y",
        "outputId": "8a542645-2e16-489d-933f-90d7f43ee9ef",
        "colab": {
          "base_uri": "https://localhost:8080/"
        }
      },
      "source": [
        "np.zeros(20,dtype=int)"
      ],
      "execution_count": 22,
      "outputs": [
        {
          "output_type": "execute_result",
          "data": {
            "text/plain": [
              "array([0, 0, 0, 0, 0, 0, 0, 0, 0, 0, 0, 0, 0, 0, 0, 0, 0, 0, 0, 0])"
            ]
          },
          "metadata": {},
          "execution_count": 22
        }
      ]
    },
    {
      "cell_type": "code",
      "metadata": {
        "id": "o9TuSl6HIsXr",
        "outputId": "691bdfef-d8e6-45e3-bd1c-5cc438bb8472",
        "colab": {
          "base_uri": "https://localhost:8080/"
        }
      },
      "source": [
        "np.ones((3,3), dtype=bool)"
      ],
      "execution_count": 23,
      "outputs": [
        {
          "output_type": "execute_result",
          "data": {
            "text/plain": [
              "array([[ True,  True,  True],\n",
              "       [ True,  True,  True],\n",
              "       [ True,  True,  True]])"
            ]
          },
          "metadata": {},
          "execution_count": 23
        }
      ]
    },
    {
      "cell_type": "code",
      "metadata": {
        "id": "w-TciNfzEhY0",
        "outputId": "917852f9-6fd3-4855-c26b-519f75abf438",
        "colab": {
          "base_uri": "https://localhost:8080/"
        }
      },
      "source": [
        "np.full((3,3), 1.0, dtype = float)"
      ],
      "execution_count": 24,
      "outputs": [
        {
          "output_type": "execute_result",
          "data": {
            "text/plain": [
              "array([[1., 1., 1.],\n",
              "       [1., 1., 1.],\n",
              "       [1., 1., 1.]])"
            ]
          },
          "metadata": {},
          "execution_count": 24
        }
      ]
    },
    {
      "cell_type": "markdown",
      "metadata": {
        "id": "1qFumu-p-0mQ"
      },
      "source": [
        "### 날짜/시간 배열 생성\n"
      ]
    },
    {
      "cell_type": "code",
      "metadata": {
        "id": "D8ozvTUf-6Rr",
        "outputId": "27071f6a-64f4-486d-dd04-b2e0c62a174c",
        "colab": {
          "base_uri": "https://localhost:8080/"
        }
      },
      "source": [
        "date = np.array('2023-05-01', dtype=np.datetime64)\n",
        "date"
      ],
      "execution_count": 25,
      "outputs": [
        {
          "output_type": "execute_result",
          "data": {
            "text/plain": [
              "array('2023-05-01', dtype='datetime64[D]')"
            ]
          },
          "metadata": {},
          "execution_count": 25
        }
      ]
    },
    {
      "cell_type": "code",
      "metadata": {
        "id": "XIjLUkn6_K3J",
        "outputId": "b5563c94-0b93-439d-c17e-321b23ec5230",
        "colab": {
          "base_uri": "https://localhost:8080/"
        }
      },
      "source": [
        "date + np.arange(12)"
      ],
      "execution_count": 26,
      "outputs": [
        {
          "output_type": "execute_result",
          "data": {
            "text/plain": [
              "array(['2023-05-01', '2023-05-02', '2023-05-03', '2023-05-04',\n",
              "       '2023-05-05', '2023-05-06', '2023-05-07', '2023-05-08',\n",
              "       '2023-05-09', '2023-05-10', '2023-05-11', '2023-05-12'],\n",
              "      dtype='datetime64[D]')"
            ]
          },
          "metadata": {},
          "execution_count": 26
        }
      ]
    },
    {
      "cell_type": "code",
      "metadata": {
        "id": "EO7yE5VR_Wlh",
        "outputId": "f7d456f7-d30b-4035-d8a7-d78e5a98b736",
        "colab": {
          "base_uri": "https://localhost:8080/"
        }
      },
      "source": [
        "datetime = np.datetime64('2023-05-01 12:00')\n",
        "datetime"
      ],
      "execution_count": 27,
      "outputs": [
        {
          "output_type": "execute_result",
          "data": {
            "text/plain": [
              "numpy.datetime64('2023-05-01T12:00')"
            ]
          },
          "metadata": {},
          "execution_count": 27
        }
      ]
    },
    {
      "cell_type": "code",
      "metadata": {
        "id": "3dnOlf9i_kzX",
        "outputId": "ccda7590-98b5-4aca-d659-7caec9a5c28c",
        "colab": {
          "base_uri": "https://localhost:8080/"
        }
      },
      "source": [
        "datetime= np.datetime64('2020-05-01 12:00:12.34', 'ns')\n",
        "datetime"
      ],
      "execution_count": 28,
      "outputs": [
        {
          "output_type": "execute_result",
          "data": {
            "text/plain": [
              "numpy.datetime64('2020-05-01T12:00:12.340000000')"
            ]
          },
          "metadata": {},
          "execution_count": 28
        }
      ]
    },
    {
      "cell_type": "markdown",
      "metadata": {
        "id": "5AREIamhGxAr"
      },
      "source": [
        "\n",
        "\n",
        "---\n",
        "\n"
      ]
    },
    {
      "cell_type": "markdown",
      "metadata": {
        "id": "d88tkTqbBE5V"
      },
      "source": [
        "## 배열 조회"
      ]
    },
    {
      "cell_type": "markdown",
      "metadata": {
        "id": "vRqwfbjtFnPn"
      },
      "source": [
        "### 배열 속성 정보"
      ]
    },
    {
      "cell_type": "code",
      "metadata": {
        "id": "R5Rlcll7GXrM"
      },
      "source": [
        "def array_info(array):\n",
        "  print(array)\n",
        "  print(\"ndim\", array.ndim)\n",
        "  print(\"shape\", array.shape)\n",
        "  print(\"dtype\", array.dtype)\n",
        "  print('size', array.size)\n",
        "  print(\"itemsize\", array.itemsize)\n",
        "  print(\"nbytes\", array.nbytes)\n",
        "  print(\"strides\", array.strides)"
      ],
      "execution_count": 29,
      "outputs": []
    },
    {
      "cell_type": "code",
      "metadata": {
        "id": "Na59LwA7KXZV",
        "outputId": "97d1b43c-b7aa-4b2b-9c60-42ce4a072c7a",
        "colab": {
          "base_uri": "https://localhost:8080/"
        }
      },
      "source": [
        "a1 = np.array([1, 2, 3, 4, 5])\n",
        "array_info(a1)"
      ],
      "execution_count": 30,
      "outputs": [
        {
          "output_type": "stream",
          "name": "stdout",
          "text": [
            "[1 2 3 4 5]\n",
            "ndim 1\n",
            "shape (5,)\n",
            "dtype int64\n",
            "size 5\n",
            "itemsize 8\n",
            "nbytes 40\n",
            "strides (8,)\n"
          ]
        }
      ]
    },
    {
      "cell_type": "code",
      "metadata": {
        "id": "Urzr_LsdLah0",
        "outputId": "764ac8e9-7ae8-4a01-f525-7dd27d89b87a",
        "colab": {
          "base_uri": "https://localhost:8080/"
        }
      },
      "source": [
        "array_info(a2)"
      ],
      "execution_count": 31,
      "outputs": [
        {
          "output_type": "stream",
          "name": "stdout",
          "text": [
            "[[1 2 3]\n",
            " [4 5 6]\n",
            " [7 8 9]]\n",
            "ndim 2\n",
            "shape (3, 3)\n",
            "dtype int64\n",
            "size 9\n",
            "itemsize 8\n",
            "nbytes 72\n",
            "strides (24, 8)\n"
          ]
        }
      ]
    },
    {
      "cell_type": "code",
      "metadata": {
        "id": "jktqh1lsLf4V",
        "outputId": "1c4d1a30-cd1b-4012-ed8a-a20e0f04faca",
        "colab": {
          "base_uri": "https://localhost:8080/"
        }
      },
      "source": [
        "array_info(a3)"
      ],
      "execution_count": 32,
      "outputs": [
        {
          "output_type": "stream",
          "name": "stdout",
          "text": [
            "[[[1 2 3]\n",
            "  [4 5 6]\n",
            "  [7 8 9]]\n",
            "\n",
            " [[1 2 3]\n",
            "  [4 5 6]\n",
            "  [7 8 9]]\n",
            "\n",
            " [[1 2 3]\n",
            "  [4 5 6]\n",
            "  [7 8 9]]]\n",
            "ndim 3\n",
            "shape (3, 3, 3)\n",
            "dtype int64\n",
            "size 27\n",
            "itemsize 8\n",
            "nbytes 216\n",
            "strides (72, 24, 8)\n"
          ]
        }
      ]
    },
    {
      "cell_type": "markdown",
      "metadata": {
        "id": "LV1WfdBWFqDu"
      },
      "source": [
        "### 인덱싱(Indexing)"
      ]
    },
    {
      "cell_type": "code",
      "metadata": {
        "id": "Nyb7eDmGFr5m",
        "outputId": "90ef76c8-7fbc-428e-c544-b3580d428a9a",
        "colab": {
          "base_uri": "https://localhost:8080/"
        }
      },
      "source": [
        "print(a1)\n",
        "print(a1[0])\n",
        "print(a1[-1])"
      ],
      "execution_count": 33,
      "outputs": [
        {
          "output_type": "stream",
          "name": "stdout",
          "text": [
            "[1 2 3 4 5]\n",
            "1\n",
            "5\n"
          ]
        }
      ]
    },
    {
      "cell_type": "code",
      "metadata": {
        "id": "uHMNcQW3Kn-h",
        "outputId": "5adb0d69-9a72-455f-aa2c-a2e7bd5115c3",
        "colab": {
          "base_uri": "https://localhost:8080/"
        }
      },
      "source": [
        "print(a2)\n",
        "print(a2[0,0])\n",
        "print(a2[0,1])\n",
        "print(a2[0,-1])\n",
        "print(a2[1,1])\n",
        "print(a2[2,1])\n",
        "\n",
        "\n"
      ],
      "execution_count": 34,
      "outputs": [
        {
          "output_type": "stream",
          "name": "stdout",
          "text": [
            "[[1 2 3]\n",
            " [4 5 6]\n",
            " [7 8 9]]\n",
            "1\n",
            "2\n",
            "3\n",
            "5\n",
            "8\n"
          ]
        }
      ]
    },
    {
      "cell_type": "code",
      "metadata": {
        "id": "IX5yDMGiMxYZ",
        "outputId": "1836a840-1254-411a-8333-98d671cea1e7",
        "colab": {
          "base_uri": "https://localhost:8080/"
        }
      },
      "source": [
        "print(a3)\n",
        "print(a3[0,0,0])\n",
        "print(a3[1,1,1])\n",
        "print(a3[2,2,2])\n",
        "\n"
      ],
      "execution_count": 35,
      "outputs": [
        {
          "output_type": "stream",
          "name": "stdout",
          "text": [
            "[[[1 2 3]\n",
            "  [4 5 6]\n",
            "  [7 8 9]]\n",
            "\n",
            " [[1 2 3]\n",
            "  [4 5 6]\n",
            "  [7 8 9]]\n",
            "\n",
            " [[1 2 3]\n",
            "  [4 5 6]\n",
            "  [7 8 9]]]\n",
            "1\n",
            "5\n",
            "9\n"
          ]
        }
      ]
    },
    {
      "cell_type": "markdown",
      "metadata": {
        "id": "uSeXu2y_O4cu"
      },
      "source": [
        "### 슬라이싱(Slicing)"
      ]
    },
    {
      "cell_type": "markdown",
      "metadata": {
        "id": "1hikO_6ZPp5m"
      },
      "source": [
        "* 슬라이싱 구문: `a[start:stop:step]`\n",
        "* 기본값: start=0, stop=ndim, step=1"
      ]
    },
    {
      "cell_type": "code",
      "metadata": {
        "id": "PYZOOCoVO7BF",
        "outputId": "92ab974b-92cd-469d-d6cb-6ed3b187d523",
        "colab": {
          "base_uri": "https://localhost:8080/"
        }
      },
      "source": [
        "print(a1)\n",
        "print(a1[0:2])\n",
        "print(a1[0:1])\n",
        "print(a1[::2])\n",
        "print(a1[::-1])"
      ],
      "execution_count": 36,
      "outputs": [
        {
          "output_type": "stream",
          "name": "stdout",
          "text": [
            "[1 2 3 4 5]\n",
            "[1 2]\n",
            "[1]\n",
            "[1 3 5]\n",
            "[5 4 3 2 1]\n"
          ]
        }
      ]
    },
    {
      "cell_type": "code",
      "metadata": {
        "id": "oULOFrBQWs1G",
        "outputId": "923a1a76-b9d1-4315-a3ca-f1dd12d1ef9d",
        "colab": {
          "base_uri": "https://localhost:8080/"
        }
      },
      "source": [
        "print(a2)\n",
        "print(a2[1])\n",
        "print(a2[1,:1])\n",
        "print(a2[:1,-1])\n",
        "print(a2[1:,::-1])\n",
        "print(a2[::1,::-1])"
      ],
      "execution_count": 37,
      "outputs": [
        {
          "output_type": "stream",
          "name": "stdout",
          "text": [
            "[[1 2 3]\n",
            " [4 5 6]\n",
            " [7 8 9]]\n",
            "[4 5 6]\n",
            "[4]\n",
            "[3]\n",
            "[[6 5 4]\n",
            " [9 8 7]]\n",
            "[[3 2 1]\n",
            " [6 5 4]\n",
            " [9 8 7]]\n"
          ]
        }
      ]
    },
    {
      "cell_type": "markdown",
      "metadata": {
        "id": "LD52bXAsBgbH"
      },
      "source": [
        "### 불리언 인덱싱(Boolean Indexing)\n",
        "\n",
        "* 배열 각 요소의 선택 여부를 불리언(True or False)로 지정\n",
        "* True 값인 인덱스의 값만 조회"
      ]
    },
    {
      "cell_type": "code",
      "metadata": {
        "id": "pOvNsH2oBgz-",
        "outputId": "3f7886ad-e462-4a3f-bc8c-4aa4478d96ad",
        "colab": {
          "base_uri": "https://localhost:8080/"
        }
      },
      "source": [
        "print(a1)\n",
        "bi = [False, True, True, False, True]\n",
        "print(a1[bi])\n",
        "bi = [False, False, False, False, True]\n",
        "print(a1[bi])"
      ],
      "execution_count": 38,
      "outputs": [
        {
          "output_type": "stream",
          "name": "stdout",
          "text": [
            "[1 2 3 4 5]\n",
            "[2 3 5]\n",
            "[5]\n"
          ]
        }
      ]
    },
    {
      "cell_type": "code",
      "metadata": {
        "id": "EFfquM2kWHAU",
        "outputId": "6d7fe5ab-16a6-4bee-9fde-c2d2d5cbef24",
        "colab": {
          "base_uri": "https://localhost:8080/"
        }
      },
      "source": [
        "print(a2)\n",
        "bi = np.random.randint(0,2,(3,3), dtype = bool)\n",
        "print(bi)\n",
        "print(a2[bi])"
      ],
      "execution_count": 39,
      "outputs": [
        {
          "output_type": "stream",
          "name": "stdout",
          "text": [
            "[[1 2 3]\n",
            " [4 5 6]\n",
            " [7 8 9]]\n",
            "[[ True  True False]\n",
            " [False False  True]\n",
            " [False  True  True]]\n",
            "[1 2 6 8 9]\n"
          ]
        }
      ]
    },
    {
      "cell_type": "markdown",
      "metadata": {
        "id": "R5hes-hdBujH"
      },
      "source": [
        "### 팬시 인덱싱(Fancy Indedxing)"
      ]
    },
    {
      "cell_type": "code",
      "metadata": {
        "id": "z-Luw5fzBx30",
        "outputId": "122a9b23-99f3-4510-c5a1-e28b17479d7c",
        "colab": {
          "base_uri": "https://localhost:8080/"
        }
      },
      "source": [
        "print(a1)\n",
        "print(a1[0], a1[2])\n",
        "ind = [0,2]\n",
        "print(a1[ind])\n",
        "ind =np.array(\n",
        "   [[0,1],\n",
        "   [2,0]]\n",
        ")\n",
        "print(a1[ind])"
      ],
      "execution_count": 40,
      "outputs": [
        {
          "output_type": "stream",
          "name": "stdout",
          "text": [
            "[1 2 3 4 5]\n",
            "1 3\n",
            "[1 3]\n",
            "[[1 2]\n",
            " [3 1]]\n"
          ]
        }
      ]
    },
    {
      "cell_type": "code",
      "metadata": {
        "id": "p_Dd0oiJahgj",
        "outputId": "52e07109-6278-4157-dd2a-1b1edbf09ce9",
        "colab": {
          "base_uri": "https://localhost:8080/"
        }
      },
      "source": [
        "print(a2)\n",
        "row = np.array([0,2])\n",
        "col = np.array([1,2])\n",
        "print(a2[row,col])\n",
        "print(a2[row,:])\n",
        "print(a2[:,col])\n",
        "print(a2[row,1])\n",
        "print(a2[1,col])\n"
      ],
      "execution_count": 41,
      "outputs": [
        {
          "output_type": "stream",
          "name": "stdout",
          "text": [
            "[[1 2 3]\n",
            " [4 5 6]\n",
            " [7 8 9]]\n",
            "[2 9]\n",
            "[[1 2 3]\n",
            " [7 8 9]]\n",
            "[[2 3]\n",
            " [5 6]\n",
            " [8 9]]\n",
            "[2 8]\n",
            "[5 6]\n"
          ]
        }
      ]
    },
    {
      "cell_type": "markdown",
      "metadata": {
        "id": "F71_PQF1GvTs"
      },
      "source": [
        "\n",
        "\n",
        "---\n",
        "\n"
      ]
    },
    {
      "cell_type": "markdown",
      "metadata": {
        "id": "zDI5yQ58O-IX"
      },
      "source": [
        "## 배열 값 삽입/수정/삭제/복사"
      ]
    },
    {
      "cell_type": "markdown",
      "metadata": {
        "id": "zajd1qpVOQYy"
      },
      "source": [
        "### 배열 값 삽입\n",
        "\n",
        "* `insert()`: 배열의 특정 위치에 값 삽입\n",
        "* axis를 지정하지 않으면 1차원 배열로 변환\n",
        "* 추가할 방향을 axis로 지정\n",
        "* 원본 배열 변경없이 새로운 배열 반환"
      ]
    },
    {
      "cell_type": "code",
      "metadata": {
        "id": "sedRT54rP395",
        "outputId": "7d1d106d-db05-4081-c287-fcf52ed31779",
        "colab": {
          "base_uri": "https://localhost:8080/"
        }
      },
      "source": [
        "print(a1)\n",
        "b1 = np.insert(a1,0,10)\n",
        "print(b1)\n",
        "print(a1)\n"
      ],
      "execution_count": 42,
      "outputs": [
        {
          "output_type": "stream",
          "name": "stdout",
          "text": [
            "[1 2 3 4 5]\n",
            "[10  1  2  3  4  5]\n",
            "[1 2 3 4 5]\n"
          ]
        }
      ]
    },
    {
      "cell_type": "code",
      "metadata": {
        "id": "zNmu1E4iQ6h-",
        "outputId": "e54f566b-a469-4a1d-d6e9-3b7b1a94fdb7",
        "colab": {
          "base_uri": "https://localhost:8080/"
        }
      },
      "source": [
        "print(a2)\n",
        "b2 = np.insert(a2,1,10,axis = 0)\n",
        "print(b2)\n",
        "c2 = np.insert(a2,1,10,axis = 1)\n",
        "print(c2)\n"
      ],
      "execution_count": 43,
      "outputs": [
        {
          "output_type": "stream",
          "name": "stdout",
          "text": [
            "[[1 2 3]\n",
            " [4 5 6]\n",
            " [7 8 9]]\n",
            "[[ 1  2  3]\n",
            " [10 10 10]\n",
            " [ 4  5  6]\n",
            " [ 7  8  9]]\n",
            "[[ 1 10  2  3]\n",
            " [ 4 10  5  6]\n",
            " [ 7 10  8  9]]\n"
          ]
        }
      ]
    },
    {
      "cell_type": "markdown",
      "metadata": {
        "id": "OlEzG4ffNjyL"
      },
      "source": [
        "### 배열 값 수정\n",
        "\n",
        "* 배열의 인덱싱으로 접근하여 값 수정"
      ]
    },
    {
      "cell_type": "code",
      "metadata": {
        "id": "ec43i1KWNjeN",
        "outputId": "a7dc301e-7b8f-44e9-c564-9d30eda0210e",
        "colab": {
          "base_uri": "https://localhost:8080/"
        }
      },
      "source": [
        "print(a1)\n",
        "a1[0] = 1\n",
        "a1[1] = 2\n",
        "a1[2] = 3\n",
        "\n",
        "print(a1)\n",
        "a1[:1] = 9\n",
        "print(a1)\n",
        "i = np.array([1,3,4])\n",
        "a1[i] = 0\n",
        "print(a1)\n",
        "a1[i] += 4\n",
        "print(a1)"
      ],
      "execution_count": 44,
      "outputs": [
        {
          "output_type": "stream",
          "name": "stdout",
          "text": [
            "[1 2 3 4 5]\n",
            "[1 2 3 4 5]\n",
            "[9 2 3 4 5]\n",
            "[9 0 3 0 0]\n",
            "[9 4 3 4 4]\n"
          ]
        }
      ]
    },
    {
      "cell_type": "code",
      "metadata": {
        "id": "IApNNx3NOMQh",
        "outputId": "4b7f3b8c-2f44-4046-cdd8-061b1745cb58",
        "colab": {
          "base_uri": "https://localhost:8080/"
        }
      },
      "source": [
        "print(a2)\n",
        "a2 [0,0] = 1\n",
        "a2 [1,1] = 2\n",
        "a2 [2,2] = 3\n",
        "a2[0] =1\n",
        "print(a2)\n",
        "\n",
        "a2[1:,2] = 9\n",
        "print(a2)\n",
        "row = np.array([0,1])\n",
        "col = np.array([1,2])\n",
        "a2[row,col] = 0\n",
        "print(a2)"
      ],
      "execution_count": 45,
      "outputs": [
        {
          "output_type": "stream",
          "name": "stdout",
          "text": [
            "[[1 2 3]\n",
            " [4 5 6]\n",
            " [7 8 9]]\n",
            "[[1 1 1]\n",
            " [4 2 6]\n",
            " [7 8 3]]\n",
            "[[1 1 1]\n",
            " [4 2 9]\n",
            " [7 8 9]]\n",
            "[[1 0 1]\n",
            " [4 2 0]\n",
            " [7 8 9]]\n"
          ]
        }
      ]
    },
    {
      "cell_type": "markdown",
      "metadata": {
        "id": "emV7DgrITPcn"
      },
      "source": [
        "### 배열 값 삭제\n",
        "\n",
        "* `delete()`: 배열의 특정 위치에 값 삭제\n",
        "* axis를 지정하지 않으면 1차원 배열로 변환\n",
        "* 삭제할 방향을 axis로 지정\n",
        "* 원본 배열 변경없이 새로운 배열 반환"
      ]
    },
    {
      "cell_type": "code",
      "metadata": {
        "id": "I3k_Yx8lTRJ2",
        "outputId": "c92a1051-13a9-4f54-f3e2-45a0d9f92cd9",
        "colab": {
          "base_uri": "https://localhost:8080/"
        }
      },
      "source": [
        "print(a1)\n",
        "b1 = np.delete(a1,1)\n",
        "print(b1)\n",
        "print(a1)"
      ],
      "execution_count": 46,
      "outputs": [
        {
          "output_type": "stream",
          "name": "stdout",
          "text": [
            "[9 4 3 4 4]\n",
            "[9 3 4 4]\n",
            "[9 4 3 4 4]\n"
          ]
        }
      ]
    },
    {
      "cell_type": "code",
      "metadata": {
        "id": "tRTwMIfJTq_y",
        "outputId": "ae3ddfb4-c2fc-4779-8f01-b80f0dae241e",
        "colab": {
          "base_uri": "https://localhost:8080/"
        }
      },
      "source": [
        "print(a2)\n",
        "b2 = np.delete(a2,1, axis=0)\n",
        "print(b2)\n",
        "c2 = np.delete(a2,1, axis=1)\n",
        "print(c2)"
      ],
      "execution_count": 47,
      "outputs": [
        {
          "output_type": "stream",
          "name": "stdout",
          "text": [
            "[[1 0 1]\n",
            " [4 2 0]\n",
            " [7 8 9]]\n",
            "[[1 0 1]\n",
            " [7 8 9]]\n",
            "[[1 1]\n",
            " [4 0]\n",
            " [7 9]]\n"
          ]
        }
      ]
    },
    {
      "cell_type": "markdown",
      "metadata": {
        "id": "UydkYxV8Z6Fx"
      },
      "source": [
        "### 배열 복사\n",
        "\n",
        "* 리스트 자료형과 달리 배열의 슬라이스는 복사본이 아님"
      ]
    },
    {
      "cell_type": "code",
      "metadata": {
        "id": "n2_0L8KWZ7wH",
        "outputId": "40a576d2-522f-44ff-fb40-141bf618b818",
        "colab": {
          "base_uri": "https://localhost:8080/"
        }
      },
      "source": [
        "print(a2)\n",
        "print(a2[:2,:2])\n",
        "a2_sub = a2[:2,:2]\n",
        "print(a2_sub)\n",
        "a2_sub[:,1]=0\n",
        "print(a2_sub)\n",
        "print(a2)"
      ],
      "execution_count": 48,
      "outputs": [
        {
          "output_type": "stream",
          "name": "stdout",
          "text": [
            "[[1 0 1]\n",
            " [4 2 0]\n",
            " [7 8 9]]\n",
            "[[1 0]\n",
            " [4 2]]\n",
            "[[1 0]\n",
            " [4 2]]\n",
            "[[1 0]\n",
            " [4 0]]\n",
            "[[1 0 1]\n",
            " [4 0 0]\n",
            " [7 8 9]]\n"
          ]
        }
      ]
    },
    {
      "cell_type": "markdown",
      "metadata": {
        "id": "UrQqOC1Eat5l"
      },
      "source": [
        "\n",
        "* `copy()`: 배열이나 하위 배열 내의 값을 명시적으로 복사"
      ]
    },
    {
      "cell_type": "code",
      "metadata": {
        "id": "hLBZ7Qn6bAKO",
        "outputId": "4f04a5e7-90ec-4580-802f-535c783a03fe",
        "colab": {
          "base_uri": "https://localhost:8080/"
        }
      },
      "source": [
        "print(a2)\n",
        "a2_sub_copy = a2[:2,:2].copy()\n",
        "print(a2_sub_copy)"
      ],
      "execution_count": 49,
      "outputs": [
        {
          "output_type": "stream",
          "name": "stdout",
          "text": [
            "[[1 0 1]\n",
            " [4 0 0]\n",
            " [7 8 9]]\n",
            "[[1 0]\n",
            " [4 0]]\n"
          ]
        }
      ]
    },
    {
      "cell_type": "markdown",
      "metadata": {
        "id": "4HTc9FXOGtA7"
      },
      "source": [
        "\n",
        "\n",
        "---\n",
        "\n"
      ]
    },
    {
      "cell_type": "markdown",
      "metadata": {
        "id": "XVZY082__yV6"
      },
      "source": [
        "## 배열 변환"
      ]
    },
    {
      "cell_type": "markdown",
      "metadata": {
        "id": "Ec09aPeBO58M"
      },
      "source": [
        "### 배열 전치 및 축 변경"
      ]
    },
    {
      "cell_type": "code",
      "metadata": {
        "id": "anYByBpoWZmj",
        "outputId": "54f22d23-7f91-4609-801d-02aef73c6c08",
        "colab": {
          "base_uri": "https://localhost:8080/"
        }
      },
      "source": [
        "print(a2)\n",
        "print(a2.T)"
      ],
      "execution_count": 50,
      "outputs": [
        {
          "output_type": "stream",
          "name": "stdout",
          "text": [
            "[[1 0 1]\n",
            " [4 0 0]\n",
            " [7 8 9]]\n",
            "[[1 4 7]\n",
            " [0 0 8]\n",
            " [1 0 9]]\n"
          ]
        }
      ]
    },
    {
      "cell_type": "code",
      "metadata": {
        "id": "wg4XC6kiRnZo",
        "outputId": "fed1c247-b8f0-4d68-ed2a-53ca6036b28d",
        "colab": {
          "base_uri": "https://localhost:8080/"
        }
      },
      "source": [
        "print(a3)\n",
        "print(a3.T)"
      ],
      "execution_count": 51,
      "outputs": [
        {
          "output_type": "stream",
          "name": "stdout",
          "text": [
            "[[[1 2 3]\n",
            "  [4 5 6]\n",
            "  [7 8 9]]\n",
            "\n",
            " [[1 2 3]\n",
            "  [4 5 6]\n",
            "  [7 8 9]]\n",
            "\n",
            " [[1 2 3]\n",
            "  [4 5 6]\n",
            "  [7 8 9]]]\n",
            "[[[1 1 1]\n",
            "  [4 4 4]\n",
            "  [7 7 7]]\n",
            "\n",
            " [[2 2 2]\n",
            "  [5 5 5]\n",
            "  [8 8 8]]\n",
            "\n",
            " [[3 3 3]\n",
            "  [6 6 6]\n",
            "  [9 9 9]]]\n"
          ]
        }
      ]
    },
    {
      "cell_type": "code",
      "metadata": {
        "id": "6lPwXL8rRTfI",
        "outputId": "25531cc2-8f09-48c9-dc9e-6cea5c2e0d8a",
        "colab": {
          "base_uri": "https://localhost:8080/"
        }
      },
      "source": [
        "print(a2)\n",
        "print(a2.swapaxes(1,0))"
      ],
      "execution_count": 52,
      "outputs": [
        {
          "output_type": "stream",
          "name": "stdout",
          "text": [
            "[[1 0 1]\n",
            " [4 0 0]\n",
            " [7 8 9]]\n",
            "[[1 4 7]\n",
            " [0 0 8]\n",
            " [1 0 9]]\n"
          ]
        }
      ]
    },
    {
      "cell_type": "code",
      "metadata": {
        "id": "oLbEHtijRewH",
        "outputId": "11835bed-0293-4cc3-e17f-6c746ed8e568",
        "colab": {
          "base_uri": "https://localhost:8080/"
        }
      },
      "source": [
        "print(a3)\n",
        "print(a3.swapaxes(0,1))\n",
        "print(a3.swapaxes(1,2))"
      ],
      "execution_count": 53,
      "outputs": [
        {
          "output_type": "stream",
          "name": "stdout",
          "text": [
            "[[[1 2 3]\n",
            "  [4 5 6]\n",
            "  [7 8 9]]\n",
            "\n",
            " [[1 2 3]\n",
            "  [4 5 6]\n",
            "  [7 8 9]]\n",
            "\n",
            " [[1 2 3]\n",
            "  [4 5 6]\n",
            "  [7 8 9]]]\n",
            "[[[1 2 3]\n",
            "  [1 2 3]\n",
            "  [1 2 3]]\n",
            "\n",
            " [[4 5 6]\n",
            "  [4 5 6]\n",
            "  [4 5 6]]\n",
            "\n",
            " [[7 8 9]\n",
            "  [7 8 9]\n",
            "  [7 8 9]]]\n",
            "[[[1 4 7]\n",
            "  [2 5 8]\n",
            "  [3 6 9]]\n",
            "\n",
            " [[1 4 7]\n",
            "  [2 5 8]\n",
            "  [3 6 9]]\n",
            "\n",
            " [[1 4 7]\n",
            "  [2 5 8]\n",
            "  [3 6 9]]]\n"
          ]
        }
      ]
    },
    {
      "cell_type": "markdown",
      "metadata": {
        "id": "M7xN8WdOdb_S"
      },
      "source": [
        "### 배열 재구조화\n"
      ]
    },
    {
      "cell_type": "markdown",
      "metadata": {
        "id": "JwZJMpXGfY0V"
      },
      "source": [
        "* `reshape()`: 배열의 형상을 변경"
      ]
    },
    {
      "cell_type": "code",
      "metadata": {
        "id": "SlGQ17VQdd8i",
        "outputId": "98bea74c-c82a-40af-e606-873bf75d0c16",
        "colab": {
          "base_uri": "https://localhost:8080/"
        }
      },
      "source": [
        "n1 = np.arange(1,10)\n",
        "print(n1)\n",
        "print(n1.reshape(3,3))"
      ],
      "execution_count": 54,
      "outputs": [
        {
          "output_type": "stream",
          "name": "stdout",
          "text": [
            "[1 2 3 4 5 6 7 8 9]\n",
            "[[1 2 3]\n",
            " [4 5 6]\n",
            " [7 8 9]]\n"
          ]
        }
      ]
    },
    {
      "cell_type": "markdown",
      "metadata": {
        "id": "y_U1W-fQfuQY"
      },
      "source": [
        "* `newaxis()`: 새로운 축 추가"
      ]
    },
    {
      "cell_type": "code",
      "metadata": {
        "id": "COif_weCfkGo",
        "outputId": "398f8d82-77e6-4669-b736-43b4cee2450c",
        "colab": {
          "base_uri": "https://localhost:8080/"
        }
      },
      "source": [
        "print(n1)\n",
        "print(n1[np.newaxis, :5])\n",
        "print(n1[ :5, np.newaxis])"
      ],
      "execution_count": 55,
      "outputs": [
        {
          "output_type": "stream",
          "name": "stdout",
          "text": [
            "[1 2 3 4 5 6 7 8 9]\n",
            "[[1 2 3 4 5]]\n",
            "[[1]\n",
            " [2]\n",
            " [3]\n",
            " [4]\n",
            " [5]]\n"
          ]
        }
      ]
    },
    {
      "cell_type": "markdown",
      "metadata": {
        "id": "FR82RSDggbcJ"
      },
      "source": [
        "### 배열 크기 변경"
      ]
    },
    {
      "cell_type": "markdown",
      "metadata": {
        "id": "D1LuDMVFl4tc"
      },
      "source": [
        "* 배열 모양만 변경"
      ]
    },
    {
      "cell_type": "code",
      "metadata": {
        "id": "7B6pHlfxgdSJ",
        "outputId": "ebe5ab97-59b1-459d-bc45-46bdb7005982",
        "colab": {
          "base_uri": "https://localhost:8080/"
        }
      },
      "source": [
        "n2 = np.random.randint(0,10,(2,5))\n",
        "print(n2)\n",
        "n2.resize((5,2))\n",
        "print(n2)\n"
      ],
      "execution_count": 56,
      "outputs": [
        {
          "output_type": "stream",
          "name": "stdout",
          "text": [
            "[[2 2 3 6 4]\n",
            " [2 4 1 2 2]]\n",
            "[[2 2]\n",
            " [3 6]\n",
            " [4 2]\n",
            " [4 1]\n",
            " [2 2]]\n"
          ]
        }
      ]
    },
    {
      "cell_type": "markdown",
      "metadata": {
        "id": "s0adm-h9l6sv"
      },
      "source": [
        "* 배열 크기 증가\n",
        "* 남은 공간은 0으로 채워짐"
      ]
    },
    {
      "cell_type": "code",
      "metadata": {
        "id": "IrX0UcjrlWRV",
        "outputId": "5be64e6c-535a-42fa-aa20-764686c0f4c6",
        "colab": {
          "base_uri": "https://localhost:8080/"
        }
      },
      "source": [
        "n2.resize((5, 5),refcheck=False)\n",
        "print(n2)"
      ],
      "execution_count": 57,
      "outputs": [
        {
          "output_type": "stream",
          "name": "stdout",
          "text": [
            "[[2 2 3 6 4]\n",
            " [2 4 1 2 2]\n",
            " [0 0 0 0 0]\n",
            " [0 0 0 0 0]\n",
            " [0 0 0 0 0]]\n"
          ]
        }
      ]
    },
    {
      "cell_type": "markdown",
      "metadata": {
        "id": "78hPDEzfl9JB"
      },
      "source": [
        "* 배열 크기 감소\n",
        "* 포함되지 않은 값은 삭제됨"
      ]
    },
    {
      "cell_type": "code",
      "metadata": {
        "id": "fJWrwhc6lmjW",
        "outputId": "492e1193-d5f5-4d7f-c45b-65a0c1190463",
        "colab": {
          "base_uri": "https://localhost:8080/"
        }
      },
      "source": [
        "n2.resize((3,3),refcheck=False)\n",
        "print(n2)"
      ],
      "execution_count": 58,
      "outputs": [
        {
          "output_type": "stream",
          "name": "stdout",
          "text": [
            "[[2 2 3]\n",
            " [6 4 2]\n",
            " [4 1 2]]\n"
          ]
        }
      ]
    },
    {
      "cell_type": "markdown",
      "metadata": {
        "id": "r9z2gD_pHyx9"
      },
      "source": [
        "### 배열 추가\n",
        "\n",
        "* `append()`: 배열의 끝에 값 추가"
      ]
    },
    {
      "cell_type": "code",
      "metadata": {
        "id": "fH4lpQKNH5s1",
        "outputId": "925eb06c-6fda-474d-9e42-3d7bb80e3fac",
        "colab": {
          "base_uri": "https://localhost:8080/"
        }
      },
      "source": [
        "a2 = np.arange(1,10).reshape(3,3)\n",
        "print(a2)\n",
        "b2 = np.arange(10,19).reshape(3,3)\n",
        "print(b2)"
      ],
      "execution_count": 59,
      "outputs": [
        {
          "output_type": "stream",
          "name": "stdout",
          "text": [
            "[[1 2 3]\n",
            " [4 5 6]\n",
            " [7 8 9]]\n",
            "[[10 11 12]\n",
            " [13 14 15]\n",
            " [16 17 18]]\n"
          ]
        }
      ]
    },
    {
      "cell_type": "markdown",
      "metadata": {
        "id": "n8SMl5VVIquk"
      },
      "source": [
        "* axis 지정이 없으면 1차원 배열 형태로 변형되어 결합"
      ]
    },
    {
      "cell_type": "code",
      "metadata": {
        "id": "LRltk3yFIVsV",
        "outputId": "b8604a24-c61f-495e-f950-cc49a4347f4e",
        "colab": {
          "base_uri": "https://localhost:8080/"
        }
      },
      "source": [
        "c2 = np.append(a2,b2)\n",
        "print(c2)"
      ],
      "execution_count": 60,
      "outputs": [
        {
          "output_type": "stream",
          "name": "stdout",
          "text": [
            "[ 1  2  3  4  5  6  7  8  9 10 11 12 13 14 15 16 17 18]\n"
          ]
        }
      ]
    },
    {
      "cell_type": "markdown",
      "metadata": {
        "id": "sVW2UFVZJfpR"
      },
      "source": [
        "* axis를 0으로 지정\n",
        "* shape[0]을 제외한 나머지 shape은 같아야 함"
      ]
    },
    {
      "cell_type": "code",
      "metadata": {
        "id": "nwJ4xLOeIbMg",
        "outputId": "85235611-5fad-4407-b97d-dc30b20b81f0",
        "colab": {
          "base_uri": "https://localhost:8080/"
        }
      },
      "source": [
        "c2 = np.append(a2,b2,axis=0)\n",
        "print(c2)"
      ],
      "execution_count": 61,
      "outputs": [
        {
          "output_type": "stream",
          "name": "stdout",
          "text": [
            "[[ 1  2  3]\n",
            " [ 4  5  6]\n",
            " [ 7  8  9]\n",
            " [10 11 12]\n",
            " [13 14 15]\n",
            " [16 17 18]]\n"
          ]
        }
      ]
    },
    {
      "cell_type": "markdown",
      "metadata": {
        "id": "4YXxzygaJmj-"
      },
      "source": [
        "* axis를 1로 지정\n",
        "* shape[1]을 제외한 나머지 shape은 같아야 함"
      ]
    },
    {
      "cell_type": "code",
      "metadata": {
        "id": "JYE4_5gAJmYe",
        "outputId": "22731ec0-10d8-4989-ed46-14ea9e22b6b7",
        "colab": {
          "base_uri": "https://localhost:8080/"
        }
      },
      "source": [
        "c2 = np.append(a2,b2,axis=1)\n",
        "print(c2)"
      ],
      "execution_count": 62,
      "outputs": [
        {
          "output_type": "stream",
          "name": "stdout",
          "text": [
            "[[ 1  2  3 10 11 12]\n",
            " [ 4  5  6 13 14 15]\n",
            " [ 7  8  9 16 17 18]]\n"
          ]
        }
      ]
    },
    {
      "cell_type": "markdown",
      "metadata": {
        "id": "9sTza3b2hoe4"
      },
      "source": [
        "### 배열 연결"
      ]
    },
    {
      "cell_type": "markdown",
      "metadata": {
        "id": "TRun2NPYj8Ct"
      },
      "source": [
        "* `concatenate()`: 튜플이나 배열의 리스트를 인수로 사용해 배열 연결"
      ]
    },
    {
      "cell_type": "code",
      "metadata": {
        "id": "lmEqdPifhrB_",
        "outputId": "e283f6f3-50d2-4b79-c723-30ec99499e73",
        "colab": {
          "base_uri": "https://localhost:8080/"
        }
      },
      "source": [
        "a1 = np.array([1,3,5])\n",
        "b1 = np.array([2,4,6])\n",
        "np.concatenate([a1,b1])\n"
      ],
      "execution_count": 63,
      "outputs": [
        {
          "output_type": "execute_result",
          "data": {
            "text/plain": [
              "array([1, 3, 5, 2, 4, 6])"
            ]
          },
          "metadata": {},
          "execution_count": 63
        }
      ]
    },
    {
      "cell_type": "code",
      "metadata": {
        "id": "IkoTNIt2k0tp",
        "outputId": "3a4658b3-4f34-4c3f-dc06-183e58db36e7",
        "colab": {
          "base_uri": "https://localhost:8080/"
        }
      },
      "source": [
        "c1 = np.array([7,8,9])\n",
        "np.concatenate([a1,b1,c1])"
      ],
      "execution_count": 64,
      "outputs": [
        {
          "output_type": "execute_result",
          "data": {
            "text/plain": [
              "array([1, 3, 5, 2, 4, 6, 7, 8, 9])"
            ]
          },
          "metadata": {},
          "execution_count": 64
        }
      ]
    },
    {
      "cell_type": "code",
      "metadata": {
        "id": "vX0SCYX3lEs2",
        "outputId": "5a4d018d-64f0-4137-c47d-10cfee2235c1",
        "colab": {
          "base_uri": "https://localhost:8080/"
        }
      },
      "source": [
        "a2 = np.array([\n",
        "    [1,2,3],\n",
        "    [4,5,6]\n",
        "])\n",
        "np.concatenate([a2,a2])"
      ],
      "execution_count": 65,
      "outputs": [
        {
          "output_type": "execute_result",
          "data": {
            "text/plain": [
              "array([[1, 2, 3],\n",
              "       [4, 5, 6],\n",
              "       [1, 2, 3],\n",
              "       [4, 5, 6]])"
            ]
          },
          "metadata": {},
          "execution_count": 65
        }
      ]
    },
    {
      "cell_type": "code",
      "metadata": {
        "id": "Rv6xGva7lxHP",
        "outputId": "d9fa79bd-304f-4943-db01-5e6fb977d115",
        "colab": {
          "base_uri": "https://localhost:8080/"
        }
      },
      "source": [
        "a2 = np.array([\n",
        "    [1,2,3],\n",
        "    [4,5,6]\n",
        "])\n",
        "np.concatenate([a2,a2],axis=1)"
      ],
      "execution_count": 66,
      "outputs": [
        {
          "output_type": "execute_result",
          "data": {
            "text/plain": [
              "array([[1, 2, 3, 1, 2, 3],\n",
              "       [4, 5, 6, 4, 5, 6]])"
            ]
          },
          "metadata": {},
          "execution_count": 66
        }
      ]
    },
    {
      "cell_type": "markdown",
      "metadata": {
        "id": "MbiBbx4nl2KD"
      },
      "source": [
        "* `vstack()`: 수직 스택(vertical stack), 1차원으로 연결"
      ]
    },
    {
      "cell_type": "code",
      "metadata": {
        "id": "HkHJwdBMl_qi",
        "outputId": "673b7bac-c8eb-4f48-b496-3198a2208e50",
        "colab": {
          "base_uri": "https://localhost:8080/"
        }
      },
      "source": [
        "np.vstack([a2,a2])"
      ],
      "execution_count": 67,
      "outputs": [
        {
          "output_type": "execute_result",
          "data": {
            "text/plain": [
              "array([[1, 2, 3],\n",
              "       [4, 5, 6],\n",
              "       [1, 2, 3],\n",
              "       [4, 5, 6]])"
            ]
          },
          "metadata": {},
          "execution_count": 67
        }
      ]
    },
    {
      "cell_type": "markdown",
      "metadata": {
        "id": "-hTlAnWxmHA_"
      },
      "source": [
        "* `hstack()`: 수평 스택(horizontal stack), 2차원으로 연결"
      ]
    },
    {
      "cell_type": "code",
      "metadata": {
        "id": "-HsGlAytmNEz",
        "outputId": "7d1c7bcb-da37-45a5-f80b-4edf13a74612",
        "colab": {
          "base_uri": "https://localhost:8080/"
        }
      },
      "source": [
        "np.hstack([a2,a2])"
      ],
      "execution_count": 68,
      "outputs": [
        {
          "output_type": "execute_result",
          "data": {
            "text/plain": [
              "array([[1, 2, 3, 1, 2, 3],\n",
              "       [4, 5, 6, 4, 5, 6]])"
            ]
          },
          "metadata": {},
          "execution_count": 68
        }
      ]
    },
    {
      "cell_type": "markdown",
      "metadata": {
        "id": "CshM6LURmUhV"
      },
      "source": [
        "* `dstack()`: 깊이 스택(depth stack), 3차원으로 연결"
      ]
    },
    {
      "cell_type": "code",
      "metadata": {
        "id": "TFBdRddpmU4m",
        "outputId": "6febf075-4e55-4184-8924-951575ed4e33",
        "colab": {
          "base_uri": "https://localhost:8080/"
        }
      },
      "source": [
        "np.dstack([a2,a2])\n"
      ],
      "execution_count": 69,
      "outputs": [
        {
          "output_type": "execute_result",
          "data": {
            "text/plain": [
              "array([[[1, 1],\n",
              "        [2, 2],\n",
              "        [3, 3]],\n",
              "\n",
              "       [[4, 4],\n",
              "        [5, 5],\n",
              "        [6, 6]]])"
            ]
          },
          "metadata": {},
          "execution_count": 69
        }
      ]
    },
    {
      "cell_type": "markdown",
      "metadata": {
        "id": "JUBtc4UnpaSz"
      },
      "source": [
        "* `stack()`: 새로운 차원으로 연결"
      ]
    },
    {
      "cell_type": "code",
      "metadata": {
        "id": "JzoujQ9_pHS5",
        "outputId": "fb3f3729-a4f8-440a-aa09-ff9210ef2d7f",
        "colab": {
          "base_uri": "https://localhost:8080/"
        }
      },
      "source": [
        "np.stack([a2,a2])"
      ],
      "execution_count": 70,
      "outputs": [
        {
          "output_type": "execute_result",
          "data": {
            "text/plain": [
              "array([[[1, 2, 3],\n",
              "        [4, 5, 6]],\n",
              "\n",
              "       [[1, 2, 3],\n",
              "        [4, 5, 6]]])"
            ]
          },
          "metadata": {},
          "execution_count": 70
        }
      ]
    },
    {
      "cell_type": "markdown",
      "metadata": {
        "id": "eYz74NYKo8iH"
      },
      "source": [
        "### 배열 분할"
      ]
    },
    {
      "cell_type": "markdown",
      "metadata": {
        "id": "wjt2zku5pBmF"
      },
      "source": [
        "* `split()`: 배열 분할"
      ]
    },
    {
      "cell_type": "code",
      "metadata": {
        "id": "H_2e71heo-Eq",
        "outputId": "f16e06f0-d450-4600-a49b-cc92919f832b",
        "colab": {
          "base_uri": "https://localhost:8080/"
        }
      },
      "source": [
        "a1 = np.arange(0,10)\n",
        "print(a1)\n",
        "b1,c1 = np.split(a1,[5])\n",
        "print(b1, c1)\n",
        "b1,c1,d1,e1,f1 = np.split(a1,[2,4,6,8])\n",
        "print(b1,c1,d1,e1,f1)"
      ],
      "execution_count": 71,
      "outputs": [
        {
          "output_type": "stream",
          "name": "stdout",
          "text": [
            "[0 1 2 3 4 5 6 7 8 9]\n",
            "[0 1 2 3 4] [5 6 7 8 9]\n",
            "[0 1] [2 3] [4 5] [6 7] [8 9]\n"
          ]
        }
      ]
    },
    {
      "cell_type": "markdown",
      "metadata": {
        "id": "IvvdCQcKsCLn"
      },
      "source": [
        "* `vsplit()`: 수직 분할, 1차원으로 분할"
      ]
    },
    {
      "cell_type": "code",
      "metadata": {
        "id": "GdMYlsiLsCoe",
        "outputId": "3790d068-3d34-471a-8a1c-67e8d38678eb",
        "colab": {
          "base_uri": "https://localhost:8080/"
        }
      },
      "source": [
        "a2 = np.arange(1,10).reshape(3,3)\n",
        "print(a2)\n",
        "b2,c2 = np.vsplit(a2,[2])\n",
        "print(b2)\n",
        "print(c2)"
      ],
      "execution_count": 72,
      "outputs": [
        {
          "output_type": "stream",
          "name": "stdout",
          "text": [
            "[[1 2 3]\n",
            " [4 5 6]\n",
            " [7 8 9]]\n",
            "[[1 2 3]\n",
            " [4 5 6]]\n",
            "[[7 8 9]]\n"
          ]
        }
      ]
    },
    {
      "cell_type": "markdown",
      "metadata": {
        "id": "1aC0a034rSXi"
      },
      "source": [
        "* `hsplit()`: 수평 분할, 2차원으로 분할"
      ]
    },
    {
      "cell_type": "code",
      "metadata": {
        "id": "ShMnE_bnrSBJ",
        "outputId": "f692b1b1-c20d-48c4-91f7-b45216a60791",
        "colab": {
          "base_uri": "https://localhost:8080/"
        }
      },
      "source": [
        "a2 = np.arange(1,10).reshape(3,3)\n",
        "print(a2)\n",
        "b2,c2 = np.hsplit(a2,[2])\n",
        "print(b2)\n",
        "print(c2) "
      ],
      "execution_count": 73,
      "outputs": [
        {
          "output_type": "stream",
          "name": "stdout",
          "text": [
            "[[1 2 3]\n",
            " [4 5 6]\n",
            " [7 8 9]]\n",
            "[[1 2]\n",
            " [4 5]\n",
            " [7 8]]\n",
            "[[3]\n",
            " [6]\n",
            " [9]]\n"
          ]
        }
      ]
    },
    {
      "cell_type": "markdown",
      "metadata": {
        "id": "Pz3BDD8qsQER"
      },
      "source": [
        "* `dsplit()`: 깊이 분할, 3차원으로 분할"
      ]
    },
    {
      "cell_type": "code",
      "metadata": {
        "id": "DqHFGd43sQYj",
        "outputId": "84982b27-4404-419e-8bd8-7a39ebc6dca7",
        "colab": {
          "base_uri": "https://localhost:8080/"
        }
      },
      "source": [
        "a2 = np.arange(1,28).reshape(3,3,3)\n",
        "print(a3)\n",
        "b3,c3 = np.dsplit(a3,[2])\n",
        "print(b3)\n",
        "print(c3) "
      ],
      "execution_count": 74,
      "outputs": [
        {
          "output_type": "stream",
          "name": "stdout",
          "text": [
            "[[[1 2 3]\n",
            "  [4 5 6]\n",
            "  [7 8 9]]\n",
            "\n",
            " [[1 2 3]\n",
            "  [4 5 6]\n",
            "  [7 8 9]]\n",
            "\n",
            " [[1 2 3]\n",
            "  [4 5 6]\n",
            "  [7 8 9]]]\n",
            "[[[1 2]\n",
            "  [4 5]\n",
            "  [7 8]]\n",
            "\n",
            " [[1 2]\n",
            "  [4 5]\n",
            "  [7 8]]\n",
            "\n",
            " [[1 2]\n",
            "  [4 5]\n",
            "  [7 8]]]\n",
            "[[[3]\n",
            "  [6]\n",
            "  [9]]\n",
            "\n",
            " [[3]\n",
            "  [6]\n",
            "  [9]]\n",
            "\n",
            " [[3]\n",
            "  [6]\n",
            "  [9]]]\n"
          ]
        }
      ]
    },
    {
      "cell_type": "markdown",
      "metadata": {
        "id": "rK-zrDZuGoVd"
      },
      "source": [
        "\n",
        "\n",
        "---\n",
        "\n"
      ]
    },
    {
      "cell_type": "markdown",
      "metadata": {
        "id": "Vc-iSWewJ3C1"
      },
      "source": [
        "## 배열 연산\n",
        "\n",
        "* NumPy의 배열 연산은 벡터화(vectorized) 연산을 사용\n",
        "* 일반적으로 NumPy의 범용 함수(universal functions)를 통해 구현\n",
        "* 배열 요소에 대한 반복적인 계산을 효율적으로 수행"
      ]
    },
    {
      "cell_type": "markdown",
      "metadata": {
        "id": "Pg2er1A2w3cz"
      },
      "source": [
        "### 브로드캐스팅(Broadcasting)"
      ]
    },
    {
      "cell_type": "code",
      "metadata": {
        "id": "IGU-HRgr20nj",
        "outputId": "f7d5f36b-3508-477e-c18a-b7eb89fc3fc9",
        "colab": {
          "base_uri": "https://localhost:8080/"
        }
      },
      "source": [
        "a1 = np.array([1,2,3])\n",
        "print(a1)\n",
        "print(a1+5)"
      ],
      "execution_count": 75,
      "outputs": [
        {
          "output_type": "stream",
          "name": "stdout",
          "text": [
            "[1 2 3]\n",
            "[6 7 8]\n"
          ]
        }
      ]
    },
    {
      "cell_type": "code",
      "metadata": {
        "id": "IAzsmIAn1HNt",
        "outputId": "743ac376-f3e4-4952-e928-161c3739206f",
        "colab": {
          "base_uri": "https://localhost:8080/"
        }
      },
      "source": [
        "a2 = np.arange(1,10).reshape(3,3)\n",
        "print(a2)\n",
        "print(a1+a2)"
      ],
      "execution_count": 76,
      "outputs": [
        {
          "output_type": "stream",
          "name": "stdout",
          "text": [
            "[[1 2 3]\n",
            " [4 5 6]\n",
            " [7 8 9]]\n",
            "[[ 2  4  6]\n",
            " [ 5  7  9]\n",
            " [ 8 10 12]]\n"
          ]
        }
      ]
    },
    {
      "cell_type": "code",
      "source": [
        "b2 = np.array([1,2,3]).reshape(3,1)\n",
        "print(b2)\n",
        "print(a1+b2)"
      ],
      "metadata": {
        "id": "gX3udHUtimwe",
        "outputId": "e50821c5-97ab-4c37-cf09-65621a10b145",
        "colab": {
          "base_uri": "https://localhost:8080/"
        }
      },
      "execution_count": 77,
      "outputs": [
        {
          "output_type": "stream",
          "name": "stdout",
          "text": [
            "[[1]\n",
            " [2]\n",
            " [3]]\n",
            "[[2 3 4]\n",
            " [3 4 5]\n",
            " [4 5 6]]\n"
          ]
        }
      ]
    },
    {
      "cell_type": "markdown",
      "metadata": {
        "id": "NZzLHHLmwl_b"
      },
      "source": [
        "### 산술 연산(Arithmetic Operators)"
      ]
    },
    {
      "cell_type": "code",
      "metadata": {
        "id": "jHrIjHGEi05k",
        "outputId": "90528ad7-53fe-47b8-e474-020026b5df5a",
        "colab": {
          "base_uri": "https://localhost:8080/"
        }
      },
      "source": [
        "a1 = np.arange(1,10)\n",
        "print(a1)\n",
        "print(a1+1)\n",
        "print(np.add(a1,10))\n",
        "print(a1 - 2)\n",
        "print(np.subtract(a1,10))\n",
        "print(-a1)\n",
        "print(np.negative(a1))\n",
        "print(np.multiply(a1,2))\n",
        "print(a1/2)\n",
        "print(np.divide(a1,2))\n",
        "print(a1//2)\n",
        "print(np.floor_divide(a1,2))\n",
        "print(a1 **2)\n",
        "print(np.power(a1,2))\n",
        "print(a1 % 2)\n",
        "print(np.mod(a1,2))"
      ],
      "execution_count": 78,
      "outputs": [
        {
          "output_type": "stream",
          "name": "stdout",
          "text": [
            "[1 2 3 4 5 6 7 8 9]\n",
            "[ 2  3  4  5  6  7  8  9 10]\n",
            "[11 12 13 14 15 16 17 18 19]\n",
            "[-1  0  1  2  3  4  5  6  7]\n",
            "[-9 -8 -7 -6 -5 -4 -3 -2 -1]\n",
            "[-1 -2 -3 -4 -5 -6 -7 -8 -9]\n",
            "[-1 -2 -3 -4 -5 -6 -7 -8 -9]\n",
            "[ 2  4  6  8 10 12 14 16 18]\n",
            "[0.5 1.  1.5 2.  2.5 3.  3.5 4.  4.5]\n",
            "[0.5 1.  1.5 2.  2.5 3.  3.5 4.  4.5]\n",
            "[0 1 1 2 2 3 3 4 4]\n",
            "[0 1 1 2 2 3 3 4 4]\n",
            "[ 1  4  9 16 25 36 49 64 81]\n",
            "[ 1  4  9 16 25 36 49 64 81]\n",
            "[1 0 1 0 1 0 1 0 1]\n",
            "[1 0 1 0 1 0 1 0 1]\n"
          ]
        }
      ]
    },
    {
      "cell_type": "code",
      "metadata": {
        "id": "sMUYzXk3psgC",
        "outputId": "62f5a240-138f-4a1c-d331-3d8b6d07f9a5",
        "colab": {
          "base_uri": "https://localhost:8080/"
        }
      },
      "source": [
        "a1 = np.arange(1,10)\n",
        "print(a1)\n",
        "b1 = np.random.randint(1,10,size = 9)\n",
        "print(b1)\n",
        "print(a1 + b1)\n",
        "print(a1 - b1)\n",
        "print(a1 * b1)\n",
        "print(a1 / b1)\n",
        "print(a1// b1)\n",
        "print(a1**b1)"
      ],
      "execution_count": 79,
      "outputs": [
        {
          "output_type": "stream",
          "name": "stdout",
          "text": [
            "[1 2 3 4 5 6 7 8 9]\n",
            "[2 5 2 1 9 3 5 2 1]\n",
            "[ 3  7  5  5 14  9 12 10 10]\n",
            "[-1 -3  1  3 -4  3  2  6  8]\n",
            "[ 2 10  6  4 45 18 35 16  9]\n",
            "[0.5        0.4        1.5        4.         0.55555556 2.\n",
            " 1.4        4.         9.        ]\n",
            "[0 0 1 4 0 2 1 4 9]\n",
            "[      1      32       9       4 1953125     216   16807      64       9]\n"
          ]
        }
      ]
    },
    {
      "cell_type": "code",
      "metadata": {
        "id": "ZkyjPmk5onPK",
        "outputId": "4975415e-0d97-44ac-fece-f9c4f4b5613e",
        "colab": {
          "base_uri": "https://localhost:8080/"
        }
      },
      "source": [
        "a2 = np.arange(1,10).reshape(3,3)\n",
        "print(a2)\n",
        "b2 = np.random.randint(1,10,size = (3,3))\n",
        "print(b2)\n",
        "print(a2 + b2)\n",
        "print(a2 - b2)\n",
        "print(a2 * b2)\n",
        "print(a2 / b2)\n",
        "print(a2 // b2)\n",
        "print(a2 ** b2)\n",
        "print(a2 % b2)\n"
      ],
      "execution_count": 80,
      "outputs": [
        {
          "output_type": "stream",
          "name": "stdout",
          "text": [
            "[[1 2 3]\n",
            " [4 5 6]\n",
            " [7 8 9]]\n",
            "[[2 1 6]\n",
            " [6 2 9]\n",
            " [6 6 6]]\n",
            "[[ 3  3  9]\n",
            " [10  7 15]\n",
            " [13 14 15]]\n",
            "[[-1  1 -3]\n",
            " [-2  3 -3]\n",
            " [ 1  2  3]]\n",
            "[[ 2  2 18]\n",
            " [24 10 54]\n",
            " [42 48 54]]\n",
            "[[0.5        2.         0.5       ]\n",
            " [0.66666667 2.5        0.66666667]\n",
            " [1.16666667 1.33333333 1.5       ]]\n",
            "[[0 2 0]\n",
            " [0 2 0]\n",
            " [1 1 1]]\n",
            "[[       1        2      729]\n",
            " [    4096       25 10077696]\n",
            " [  117649   262144   531441]]\n",
            "[[1 0 3]\n",
            " [4 1 6]\n",
            " [1 2 3]]\n"
          ]
        }
      ]
    },
    {
      "cell_type": "markdown",
      "metadata": {
        "id": "hxG_aECas3a9"
      },
      "source": [
        "#### 절대값 함수(Absolute Function)\n",
        "\n",
        "* `absolute()`, `abs()`: 내장된 절대값 함수"
      ]
    },
    {
      "cell_type": "code",
      "metadata": {
        "id": "YmX-0LvWs7qM",
        "outputId": "8428f9d8-eb73-4213-823d-36797ffea444",
        "colab": {
          "base_uri": "https://localhost:8080/"
        }
      },
      "source": [
        "a1 = np.random.randint(-10,10, size =5)\n",
        "print(a1)\n",
        "print(np.abs(a1))"
      ],
      "execution_count": 82,
      "outputs": [
        {
          "output_type": "stream",
          "name": "stdout",
          "text": [
            "[-3  0  0  6  5]\n",
            "[3 0 0 6 5]\n"
          ]
        }
      ]
    },
    {
      "cell_type": "markdown",
      "metadata": {
        "id": "U5uE3sVtzRvA"
      },
      "source": [
        "#### 제곱/제곱근 함수\n",
        "\n",
        "* `square`, `sqrt`: 제곱, 제곱근 함수"
      ]
    },
    {
      "cell_type": "code",
      "metadata": {
        "id": "ggnIxDGzzTfX",
        "outputId": "bd231c9d-7f7f-42f0-b403-d95370bcceb6",
        "colab": {
          "base_uri": "https://localhost:8080/"
        }
      },
      "source": [
        "print(a1)\n",
        "print(np.square(a1))\n",
        "print(np.sqrt(a1))"
      ],
      "execution_count": 84,
      "outputs": [
        {
          "output_type": "stream",
          "name": "stdout",
          "text": [
            "[-3  0  0  6  5]\n",
            "[ 9  0  0 36 25]\n",
            "[       nan 0.         0.         2.44948974 2.23606798]\n"
          ]
        },
        {
          "output_type": "stream",
          "name": "stderr",
          "text": [
            "<ipython-input-84-4e034cb7ea92>:3: RuntimeWarning: invalid value encountered in sqrt\n",
            "  print(np.sqrt(a1))\n"
          ]
        }
      ]
    },
    {
      "cell_type": "markdown",
      "metadata": {
        "id": "tWh1aQ50vRhB"
      },
      "source": [
        "#### 지수와 로그 함수 (Exponential and Log Function)"
      ]
    },
    {
      "cell_type": "code",
      "metadata": {
        "id": "Dygt3AyHvTZz",
        "outputId": "09a85a77-876a-40b8-bb16-f93aa5e54d3c",
        "colab": {
          "base_uri": "https://localhost:8080/"
        }
      },
      "source": [
        "a1 = np.random.randint(1,10,size = 5)\n",
        "print(a1)\n",
        "print(np.exp(a1))\n",
        "print(np.exp2(a1))\n",
        "print(np.power(a1,2))"
      ],
      "execution_count": 85,
      "outputs": [
        {
          "output_type": "stream",
          "name": "stdout",
          "text": [
            "[7 8 7 5 5]\n",
            "[1096.63315843 2980.95798704 1096.63315843  148.4131591   148.4131591 ]\n",
            "[128. 256. 128.  32.  32.]\n",
            "[49 64 49 25 25]\n"
          ]
        }
      ]
    },
    {
      "cell_type": "code",
      "metadata": {
        "id": "YB0BzwxDvnkT",
        "outputId": "c6a24b4d-8e69-43e9-cb87-e464f4177815",
        "colab": {
          "base_uri": "https://localhost:8080/"
        }
      },
      "source": [
        "print(a1)\n",
        "print(np.log(a1))\n",
        "print(np.log2(a1))\n",
        "print(np.log10(a1))"
      ],
      "execution_count": 86,
      "outputs": [
        {
          "output_type": "stream",
          "name": "stdout",
          "text": [
            "[7 8 7 5 5]\n",
            "[1.94591015 2.07944154 1.94591015 1.60943791 1.60943791]\n",
            "[2.80735492 3.         2.80735492 2.32192809 2.32192809]\n",
            "[0.84509804 0.90308999 0.84509804 0.69897    0.69897   ]\n"
          ]
        }
      ]
    },
    {
      "cell_type": "markdown",
      "metadata": {
        "id": "wE_p9AxjtdJ9"
      },
      "source": [
        "#### 삼각 함수(Trigonometrical Function)\n"
      ]
    },
    {
      "cell_type": "code",
      "metadata": {
        "id": "6bOSPS81tuo5",
        "outputId": "c47916a2-d390-4967-b3c4-d6d0b5231ac0",
        "colab": {
          "base_uri": "https://localhost:8080/"
        }
      },
      "source": [
        "t = np.linspace(0,np.pi,3)\n",
        "print(t)\n",
        "print(np.sin(t))\n",
        "print(np.cos(t))\n",
        "print(np.tan(t))"
      ],
      "execution_count": 87,
      "outputs": [
        {
          "output_type": "stream",
          "name": "stdout",
          "text": [
            "[0.         1.57079633 3.14159265]\n",
            "[0.0000000e+00 1.0000000e+00 1.2246468e-16]\n",
            "[ 1.000000e+00  6.123234e-17 -1.000000e+00]\n",
            "[ 0.00000000e+00  1.63312394e+16 -1.22464680e-16]\n"
          ]
        }
      ]
    },
    {
      "cell_type": "code",
      "metadata": {
        "id": "v7m-AQW9uJ9u",
        "outputId": "461850eb-702b-4053-d013-8fe92a8cb9db",
        "colab": {
          "base_uri": "https://localhost:8080/"
        }
      },
      "source": [
        "x = [-1,0,1]\n",
        "print(x)\n",
        "print(np.arcsin(x))\n",
        "print(np.arccos(x))\n",
        "print(np.arctan(x))"
      ],
      "execution_count": 88,
      "outputs": [
        {
          "output_type": "stream",
          "name": "stdout",
          "text": [
            "[-1, 0, 1]\n",
            "[-1.57079633  0.          1.57079633]\n",
            "[3.14159265 1.57079633 0.        ]\n",
            "[-0.78539816  0.          0.78539816]\n"
          ]
        }
      ]
    },
    {
      "cell_type": "markdown",
      "metadata": {
        "id": "hKJtYUVWwxQy"
      },
      "source": [
        "### 집계 함수(Aggregate Functions)"
      ]
    },
    {
      "cell_type": "markdown",
      "metadata": {
        "id": "GdxMrX5l9m6W"
      },
      "source": [
        "#### sum(): 합 계산"
      ]
    },
    {
      "cell_type": "code",
      "metadata": {
        "id": "AJQ3GjLI0cZU",
        "outputId": "db423e79-6645-4948-8be6-da73747ac901",
        "colab": {
          "base_uri": "https://localhost:8080/"
        }
      },
      "source": [
        "a2 = np.random.randint(1,10, size=(3,3))\n",
        "print(a2)\n",
        "print(a2.sum(),np.sum(a2))\n",
        "print(a2.sum(axis = 0),np.sum(a2,axis = 0))\n",
        "print(a2.sum(axis = 1),np.sum(a2,axis = 1))\n",
        "\n"
      ],
      "execution_count": 90,
      "outputs": [
        {
          "output_type": "stream",
          "name": "stdout",
          "text": [
            "[[9 3 1]\n",
            " [4 9 8]\n",
            " [7 7 7]]\n",
            "55 55\n",
            "[20 19 16] [20 19 16]\n",
            "[13 21 21] [13 21 21]\n"
          ]
        }
      ]
    },
    {
      "cell_type": "markdown",
      "metadata": {
        "id": "U4W4iIb9J4Zd"
      },
      "source": [
        "#### cumsum(): 누적합 계산"
      ]
    },
    {
      "cell_type": "code",
      "metadata": {
        "id": "SRZWZD3UJ4wo",
        "outputId": "c4d0ea5b-67b2-4d8c-f0d4-0558656f0490",
        "colab": {
          "base_uri": "https://localhost:8080/"
        }
      },
      "source": [
        "print(a2)\n",
        "print(np.cumsum(a2))\n",
        "print(np.cumsum(a2,axis = 0))\n",
        "print(np.cumsum(a2,axis = 1))"
      ],
      "execution_count": 91,
      "outputs": [
        {
          "output_type": "stream",
          "name": "stdout",
          "text": [
            "[[9 3 1]\n",
            " [4 9 8]\n",
            " [7 7 7]]\n",
            "[ 9 12 13 17 26 34 41 48 55]\n",
            "[[ 9  3  1]\n",
            " [13 12  9]\n",
            " [20 19 16]]\n",
            "[[ 9 12 13]\n",
            " [ 4 13 21]\n",
            " [ 7 14 21]]\n"
          ]
        }
      ]
    },
    {
      "cell_type": "markdown",
      "metadata": {
        "id": "pVaJRWQ-LV0f"
      },
      "source": [
        "#### diff(): 차분 계산"
      ]
    },
    {
      "cell_type": "code",
      "metadata": {
        "id": "yKjnWtGVLWJj",
        "outputId": "58b28e58-806e-4bbd-d8ae-4759cda42b24",
        "colab": {
          "base_uri": "https://localhost:8080/"
        }
      },
      "source": [
        "print(a2)\n",
        "print(np.diff(a2))\n",
        "print(np.diff(a2,axis = 0))\n",
        "print(np.diff(a2,axis = 1))"
      ],
      "execution_count": 92,
      "outputs": [
        {
          "output_type": "stream",
          "name": "stdout",
          "text": [
            "[[9 3 1]\n",
            " [4 9 8]\n",
            " [7 7 7]]\n",
            "[[-6 -2]\n",
            " [ 5 -1]\n",
            " [ 0  0]]\n",
            "[[-5  6  7]\n",
            " [ 3 -2 -1]]\n",
            "[[-6 -2]\n",
            " [ 5 -1]\n",
            " [ 0  0]]\n"
          ]
        }
      ]
    },
    {
      "cell_type": "markdown",
      "source": [
        "[[9 3 1]\n",
        "  \n",
        "  -6 -2\n",
        " \n",
        " [4 9 8]\n",
        "  \n",
        "   5 -1\n",
        "   \n",
        "[7 7 7]]\n",
        "\n"
      ],
      "metadata": {
        "id": "dz36QxnjMolq"
      }
    },
    {
      "cell_type": "markdown",
      "metadata": {
        "id": "b6I38HfA9vGL"
      },
      "source": [
        "#### prod(): 곱 계산"
      ]
    },
    {
      "cell_type": "code",
      "metadata": {
        "id": "rGPMXGe89y0O",
        "outputId": "8e53dcbc-5101-42d5-9618-1dd96362aed4",
        "colab": {
          "base_uri": "https://localhost:8080/"
        }
      },
      "source": [
        "print(a2)\n",
        "print(np.prod(a2))\n",
        "print(np.prod(a2,axis = 0))\n",
        "print(np.prod(a2,axis = 1))"
      ],
      "execution_count": 93,
      "outputs": [
        {
          "output_type": "stream",
          "name": "stdout",
          "text": [
            "[[9 3 1]\n",
            " [4 9 8]\n",
            " [7 7 7]]\n",
            "2667168\n",
            "[252 189  56]\n",
            "[ 27 288 343]\n"
          ]
        }
      ]
    },
    {
      "cell_type": "markdown",
      "metadata": {
        "id": "RwaoVUGcKkkE"
      },
      "source": [
        "#### cumprod(): 누적곱 계산"
      ]
    },
    {
      "cell_type": "code",
      "metadata": {
        "id": "jwYoX9inKk4D",
        "outputId": "00955407-6bea-44b4-bab3-5f5525317e0e",
        "colab": {
          "base_uri": "https://localhost:8080/"
        }
      },
      "source": [
        "print(a2)\n",
        "print(np.cumprod(a2))\n",
        "print(np.cumprod(a2,axis = 0))\n",
        "print(np.cumprod(a2,axis = 1))"
      ],
      "execution_count": 95,
      "outputs": [
        {
          "output_type": "stream",
          "name": "stdout",
          "text": [
            "[[9 3 1]\n",
            " [4 9 8]\n",
            " [7 7 7]]\n",
            "[      9      27      27     108     972    7776   54432  381024 2667168]\n",
            "[[  9   3   1]\n",
            " [ 36  27   8]\n",
            " [252 189  56]]\n",
            "[[  9  27  27]\n",
            " [  4  36 288]\n",
            " [  7  49 343]]\n"
          ]
        }
      ]
    },
    {
      "cell_type": "markdown",
      "metadata": {
        "id": "_LMAbL9hMV7T"
      },
      "source": [
        "#### dot()/matmul(): 점곱/행렬곱 계산"
      ]
    },
    {
      "cell_type": "code",
      "metadata": {
        "id": "xC6FBzF0MWW1",
        "outputId": "a7bc6a19-dd37-4d42-b574-e03f5865d9f6",
        "colab": {
          "base_uri": "https://localhost:8080/"
        }
      },
      "source": [
        "print(a2) \n",
        "b2 = np.ones_like(a2)\n",
        "print(b2)\n",
        "print(np.dot(a2,b2))\n",
        "print(np.matmul(a2,b2))"
      ],
      "execution_count": 96,
      "outputs": [
        {
          "output_type": "stream",
          "name": "stdout",
          "text": [
            "[[9 3 1]\n",
            " [4 9 8]\n",
            " [7 7 7]]\n",
            "[[1 1 1]\n",
            " [1 1 1]\n",
            " [1 1 1]]\n",
            "[[13 13 13]\n",
            " [21 21 21]\n",
            " [21 21 21]]\n",
            "[[13 13 13]\n",
            " [21 21 21]\n",
            " [21 21 21]]\n"
          ]
        }
      ]
    },
    {
      "cell_type": "markdown",
      "source": [
        "a2 \n",
        "[\n",
        "  [9 3 1]\n",
        " \n",
        " [4 9 8]\n",
        " \n",
        " [7 7 7]]\n",
        "\n",
        "b2\n",
        "[\n",
        "  [1 1 1]\n",
        " \n",
        " [1 1 1]\n",
        " \n",
        " [1 1 1]]\n",
        "\n",
        "\n",
        " 9*1 + 3*1 + 1*1 = 13\n",
        " \n",
        " 7*1 + 7*1 + 7*1 = 21"
      ],
      "metadata": {
        "id": "eUJ48-ZENv67"
      }
    },
    {
      "cell_type": "markdown",
      "metadata": {
        "id": "juVk3vnjPu31"
      },
      "source": [
        "#### tensordot(): 텐서곱 계산"
      ]
    },
    {
      "cell_type": "code",
      "metadata": {
        "id": "3LrcLOcjPvNI",
        "outputId": "03c4074e-8b0d-4ccf-af60-7a1116a32a24",
        "colab": {
          "base_uri": "https://localhost:8080/"
        }
      },
      "source": [
        "print(a2)\n",
        "print(b2)\n",
        "print(np.tensordot(a2,b2))\n",
        "print(np.tensordot(a2,b2,axes=0))\n",
        "print(np.tensordot(a2,b2,axes=1))"
      ],
      "execution_count": 98,
      "outputs": [
        {
          "output_type": "stream",
          "name": "stdout",
          "text": [
            "[[9 3 1]\n",
            " [4 9 8]\n",
            " [7 7 7]]\n",
            "[[1 1 1]\n",
            " [1 1 1]\n",
            " [1 1 1]]\n",
            "55\n",
            "[[[[9 9 9]\n",
            "   [9 9 9]\n",
            "   [9 9 9]]\n",
            "\n",
            "  [[3 3 3]\n",
            "   [3 3 3]\n",
            "   [3 3 3]]\n",
            "\n",
            "  [[1 1 1]\n",
            "   [1 1 1]\n",
            "   [1 1 1]]]\n",
            "\n",
            "\n",
            " [[[4 4 4]\n",
            "   [4 4 4]\n",
            "   [4 4 4]]\n",
            "\n",
            "  [[9 9 9]\n",
            "   [9 9 9]\n",
            "   [9 9 9]]\n",
            "\n",
            "  [[8 8 8]\n",
            "   [8 8 8]\n",
            "   [8 8 8]]]\n",
            "\n",
            "\n",
            " [[[7 7 7]\n",
            "   [7 7 7]\n",
            "   [7 7 7]]\n",
            "\n",
            "  [[7 7 7]\n",
            "   [7 7 7]\n",
            "   [7 7 7]]\n",
            "\n",
            "  [[7 7 7]\n",
            "   [7 7 7]\n",
            "   [7 7 7]]]]\n",
            "[[13 13 13]\n",
            " [21 21 21]\n",
            " [21 21 21]]\n"
          ]
        }
      ]
    },
    {
      "cell_type": "markdown",
      "metadata": {
        "id": "UzmZhB5TNRMX"
      },
      "source": [
        "#### cross(): 벡터곱"
      ]
    },
    {
      "cell_type": "code",
      "metadata": {
        "id": "xvT2hy1FNRkU"
      },
      "source": [],
      "execution_count": 80,
      "outputs": []
    },
    {
      "cell_type": "markdown",
      "metadata": {
        "id": "SJVYmtrSO5YL"
      },
      "source": [
        "#### inner()/outer(): 내적/외적"
      ]
    },
    {
      "cell_type": "code",
      "metadata": {
        "id": "HJpomax7O5s6"
      },
      "source": [],
      "execution_count": 80,
      "outputs": []
    },
    {
      "cell_type": "markdown",
      "metadata": {
        "id": "9CIotQgI_RQ-"
      },
      "source": [
        "#### mean(): 평균 계산"
      ]
    },
    {
      "cell_type": "code",
      "metadata": {
        "id": "g96wAEOT_bUk"
      },
      "source": [],
      "execution_count": 80,
      "outputs": []
    },
    {
      "cell_type": "markdown",
      "metadata": {
        "id": "wAG_zijP_Z5o"
      },
      "source": [
        "#### std(): 표준 편차 계산"
      ]
    },
    {
      "cell_type": "code",
      "metadata": {
        "id": "hlpnuyug_TXA"
      },
      "source": [],
      "execution_count": 80,
      "outputs": []
    },
    {
      "cell_type": "markdown",
      "metadata": {
        "id": "5FFTCCDaAEhx"
      },
      "source": [
        "#### var(): 분산 계산"
      ]
    },
    {
      "cell_type": "code",
      "metadata": {
        "id": "CRMNkSdzAGZG"
      },
      "source": [],
      "execution_count": 80,
      "outputs": []
    },
    {
      "cell_type": "markdown",
      "metadata": {
        "id": "QFeh-4tmCCrU"
      },
      "source": [
        "#### min(): 최소값"
      ]
    },
    {
      "cell_type": "code",
      "metadata": {
        "id": "SMNCfYBQCEtf"
      },
      "source": [],
      "execution_count": 80,
      "outputs": []
    },
    {
      "cell_type": "markdown",
      "metadata": {
        "id": "A3n_JBnBJ2bo"
      },
      "source": [
        "#### max(): 최대값"
      ]
    },
    {
      "cell_type": "code",
      "metadata": {
        "id": "FmuOFKGAJ6Pf"
      },
      "source": [],
      "execution_count": 80,
      "outputs": []
    },
    {
      "cell_type": "markdown",
      "metadata": {
        "id": "PvGOKDP0J_5b"
      },
      "source": [
        "#### argmin(): 최소값 인덱스"
      ]
    },
    {
      "cell_type": "code",
      "metadata": {
        "id": "1ILP7L3yKCqA"
      },
      "source": [],
      "execution_count": 80,
      "outputs": []
    },
    {
      "cell_type": "markdown",
      "metadata": {
        "id": "23IcSctIKbUa"
      },
      "source": [
        "#### argmax(): 최대값 인덱스"
      ]
    },
    {
      "cell_type": "code",
      "metadata": {
        "id": "2m21cfCFKd-Q"
      },
      "source": [],
      "execution_count": 80,
      "outputs": []
    },
    {
      "cell_type": "markdown",
      "metadata": {
        "id": "3TjeNFQLKuZb"
      },
      "source": [
        "#### median(): 중앙값"
      ]
    },
    {
      "cell_type": "code",
      "metadata": {
        "id": "kSLN17bpKwv6"
      },
      "source": [],
      "execution_count": 80,
      "outputs": []
    },
    {
      "cell_type": "markdown",
      "metadata": {
        "id": "df-Id-nhLs3L"
      },
      "source": [
        "#### percentile(): 백분위 수\n",
        "\n"
      ]
    },
    {
      "cell_type": "code",
      "metadata": {
        "id": "N-TCx9hnLvhK"
      },
      "source": [],
      "execution_count": 80,
      "outputs": []
    },
    {
      "cell_type": "markdown",
      "metadata": {
        "id": "x0NnNsvvNDIs"
      },
      "source": [
        "#### any()"
      ]
    },
    {
      "cell_type": "code",
      "metadata": {
        "id": "I1XDqsFxOMvA"
      },
      "source": [],
      "execution_count": 80,
      "outputs": []
    },
    {
      "cell_type": "markdown",
      "metadata": {
        "id": "Uw-wjYgyONBZ"
      },
      "source": [
        "#### all()"
      ]
    },
    {
      "cell_type": "code",
      "metadata": {
        "id": "sXi2AHOHONYq"
      },
      "source": [],
      "execution_count": 80,
      "outputs": []
    },
    {
      "cell_type": "markdown",
      "metadata": {
        "id": "0n7lgzmUwqr1"
      },
      "source": [
        "### 비교 연산(Comparison Operators)\n"
      ]
    },
    {
      "cell_type": "code",
      "metadata": {
        "id": "E00V-nBTVnCu"
      },
      "source": [],
      "execution_count": 80,
      "outputs": []
    },
    {
      "cell_type": "code",
      "metadata": {
        "id": "3MwV1CU1WsWS"
      },
      "source": [],
      "execution_count": 80,
      "outputs": []
    },
    {
      "cell_type": "code",
      "metadata": {
        "id": "D4cuMoyEPn8R"
      },
      "source": [],
      "execution_count": 80,
      "outputs": []
    },
    {
      "cell_type": "code",
      "metadata": {
        "id": "af9VSc6FyMBh"
      },
      "source": [],
      "execution_count": 80,
      "outputs": []
    },
    {
      "cell_type": "markdown",
      "metadata": {
        "id": "4BHMetMlYmt-"
      },
      "source": [
        "#### 불리언 연산자(Boolean Operators)\n"
      ]
    },
    {
      "cell_type": "code",
      "metadata": {
        "id": "ZV1-8DkUHOZq"
      },
      "source": [],
      "execution_count": 80,
      "outputs": []
    },
    {
      "cell_type": "markdown",
      "metadata": {
        "id": "FlQJVeGBxIFw"
      },
      "source": [
        "### 배열 정렬"
      ]
    },
    {
      "cell_type": "code",
      "metadata": {
        "id": "x0sodUMqLU37"
      },
      "source": [],
      "execution_count": 80,
      "outputs": []
    },
    {
      "cell_type": "code",
      "metadata": {
        "id": "FO_sO5POzeMp"
      },
      "source": [],
      "execution_count": 80,
      "outputs": []
    },
    {
      "cell_type": "markdown",
      "metadata": {
        "id": "yYSItPz_00sZ"
      },
      "source": [
        "#### 부분 정렬\n",
        "\n",
        "* `partition()`: 배열에서 k개의 작은 값을 반환"
      ]
    },
    {
      "cell_type": "code",
      "metadata": {
        "id": "QQwov4N00YFP"
      },
      "source": [],
      "execution_count": 80,
      "outputs": []
    },
    {
      "cell_type": "markdown",
      "metadata": {
        "id": "77DSA72ML5cI"
      },
      "source": [
        "## 배열 입출력\n"
      ]
    },
    {
      "cell_type": "code",
      "metadata": {
        "id": "da-Mm_gzIs7U"
      },
      "source": [],
      "execution_count": 80,
      "outputs": []
    },
    {
      "cell_type": "code",
      "metadata": {
        "id": "pFOWyDvAsf11"
      },
      "source": [],
      "execution_count": 80,
      "outputs": []
    },
    {
      "cell_type": "code",
      "metadata": {
        "id": "Hvb_ilyisoIV"
      },
      "source": [],
      "execution_count": 80,
      "outputs": []
    },
    {
      "cell_type": "code",
      "metadata": {
        "id": "ArWZfL31s1wU"
      },
      "source": [],
      "execution_count": 80,
      "outputs": []
    },
    {
      "cell_type": "code",
      "metadata": {
        "id": "che4cEJEs2Tr"
      },
      "source": [],
      "execution_count": 80,
      "outputs": []
    },
    {
      "cell_type": "code",
      "metadata": {
        "id": "X2yIUsYvtMj6"
      },
      "source": [],
      "execution_count": 80,
      "outputs": []
    },
    {
      "cell_type": "code",
      "metadata": {
        "id": "Yj5ec-CYtaH1"
      },
      "source": [],
      "execution_count": 80,
      "outputs": []
    },
    {
      "cell_type": "code",
      "metadata": {
        "id": "_NIDrc-VuPmv"
      },
      "source": [],
      "execution_count": 80,
      "outputs": []
    },
    {
      "cell_type": "code",
      "metadata": {
        "id": "bPhmIoVBuQMf"
      },
      "source": [],
      "execution_count": 80,
      "outputs": []
    },
    {
      "cell_type": "code",
      "metadata": {
        "id": "FeB2p4azuTDv"
      },
      "source": [],
      "execution_count": 80,
      "outputs": []
    },
    {
      "cell_type": "code",
      "metadata": {
        "id": "IUg8Vg4fuxR5"
      },
      "source": [],
      "execution_count": 80,
      "outputs": []
    },
    {
      "cell_type": "code",
      "metadata": {
        "id": "lIK5dSv6vtm2"
      },
      "source": [],
      "execution_count": 80,
      "outputs": []
    },
    {
      "cell_type": "code",
      "metadata": {
        "id": "l4O-gVxdv8-d"
      },
      "source": [],
      "execution_count": 80,
      "outputs": []
    },
    {
      "cell_type": "markdown",
      "metadata": {
        "id": "JM2Ghx2NGloN"
      },
      "source": [
        "\n",
        "\n",
        "---\n",
        "\n"
      ]
    }
  ]
}